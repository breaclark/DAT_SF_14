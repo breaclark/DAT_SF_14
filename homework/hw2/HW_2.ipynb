{
 "cells": [
  {
   "cell_type": "code",
   "execution_count": 43,
   "metadata": {
    "collapsed": false
   },
   "outputs": [
    {
     "data": {
      "text/plain": [
       "[<matplotlib.lines.Line2D at 0x109739310>]"
      ]
     },
     "execution_count": 43,
     "metadata": {},
     "output_type": "execute_result"
    },
    {
     "data": {
      "image/png": "[encoded data removed]",
      "text/plain": [
       "<matplotlib.figure.Figure at 0x109147c90>"
      ]
     },
     "metadata": {},
     "output_type": "display_data"
    }
   ],
   "source": [
    "%matplotlib inline\n",
    "import pandas as pd\n",
    "import numpy as np\n",
    "#from seaborn import plt\n",
    "import matplotlib.pyplot as plt\n",
    "from sklearn.datasets import load_iris\n",
    "from sklearn.preprocessing import scale\n",
    "from sklearn import neighbors, datasets, feature_selection\n",
    "from sklearn.cross_validation import train_test_split, cross_val_score\n",
    "\n",
    "iris = datasets.load_iris()\n",
    "iris_df = pd.DataFrame(scale(iris.data), columns=iris.feature_names)\n",
    "\n",
    "#1. Implement KNN classification, using the sklearn package.\n",
    "\n",
    "n_neighbors = range(1, 71, 3)\n",
    "X_train, X_test, y_train, y_test = train_test_split(iris.data, iris.target, test_size=0.3, random_state=29)\n",
    "scores = []\n",
    "for n in n_neighbors:\n",
    "    clf = neighbors.KNeighborsClassifier(n)\n",
    "    clf.fit(X_train, y_train)\n",
    "    scores.append(clf.score(X_test, y_test))\n",
    "\n",
    "plt.plot(n_neighbors, scores, linewidth=3.0)\n"
   ]
  },
  {
   "cell_type": "code",
   "execution_count": 44,
   "metadata": {
    "collapsed": false
   },
   "outputs": [
    {
     "name": "stdout",
     "output_type": "stream",
     "text": [
      "[ 0.96666667  0.96666667  0.96666667  0.93333333  0.96666667]\n"
     ]
    }
   ],
   "source": [
    "#2. Use the sklearn package to implement cross-validation \n",
    "#for your classifier. Use 5 folds for your cross-validation.\n",
    "\n",
    "from sklearn.cross_validation import cross_val_score\n",
    "clf = neighbors.KNeighborsClassifier(10, weights='uniform')\n",
    "clf.fit(iris.data, iris.target)\n",
    "clf_scores = cross_val_score(clf, iris_df.values, iris.target, cv=5)\n",
    "\n",
    "print clf_scores"
   ]
  },
  {
   "cell_type": "code",
   "execution_count": 45,
   "metadata": {
    "collapsed": false
   },
   "outputs": [],
   "source": [
    "#3. Use your KNN classifier and cross-validation code from \n",
    "#(1) and (2) above to determine the optimal value of K (number \n",
    "#of nearest neighbors to consult) for this Iris dataset. \n",
    "#Hint: This hyperparameter will be a number between 1 and 150 :)\n",
    "\n",
    "#I tried values between 9 and 20. Around 10 seems most accurate"
   ]
  },
  {
   "cell_type": "code",
   "execution_count": 46,
   "metadata": {
    "collapsed": false
   },
   "outputs": [
    {
     "data": {
      "text/plain": [
       "[<matplotlib.lines.Line2D at 0x10976c950>]"
      ]
     },
     "execution_count": 46,
     "metadata": {},
     "output_type": "execute_result"
    },
    {
     "data": {
      "image/png": "[encoded data removed]",
      "text/plain": [
       "<matplotlib.figure.Figure at 0x1048be110>"
      ]
     },
     "metadata": {},
     "output_type": "display_data"
    }
   ],
   "source": [
    "#4. Using matplotlib, plot classifier accuracy versus the \n",
    "#hyperparameter K for a range of K that you consider interesting. \n",
    "#Explain in words what you are seeing.\n",
    "clf_scores_list = []\n",
    "for n in xrange(9,21):\n",
    "    clf = neighbors.KNeighborsClassifier(n, weights='uniform')\n",
    "    clf.fit(iris.data, iris.target)\n",
    "    clf_scores = cross_val_score(clf, iris_df.values, iris.target, cv=5)\n",
    "    clf_scores_list.append(clf_scores.mean())\n",
    "    \n",
    "knn_scores = []\n",
    "for n in xrange(9,21):\n",
    "    clf = neighbors.KNeighborsClassifier(n)\n",
    "    clf.fit(X_train, y_train)\n",
    "    knn_scores.append(clf.score(X_test, y_test))\n",
    "\n",
    "indices = range(9, 21)\n",
    "plt.plot(indices, clf_scores_list)\n",
    "plt.plot(indices, knn_scores)"
   ]
  },
  {
   "cell_type": "code",
   "execution_count": 47,
   "metadata": {
    "collapsed": false
   },
   "outputs": [],
   "source": [
    "#5. Now, write your own implementation of cross-validation in \n",
    "#Python without using the cross-validation methods from sklearn. \n",
    "#Cross validation is a very important concept. Compare the \n",
    "#results of your cross-validation code with your results using \n",
    "#the cross-validation in sklearn.\n",
    "\n",
    "# Parameters taken in -  n folds, random number?, data set\n",
    "# Things to keep track of - array of accuracies for each set\n",
    "\n",
    "from sklearn.datasets import load_iris\n",
    "from sklearn.preprocessing import scale\n",
    "iris = datasets.load_iris()\n",
    "import random\n",
    "import numpy\n",
    "\n",
    "def cross_validate(data, folds):\n",
    "    accuracies = [] # this will hold the errors for each fold\n",
    "    #1 shuffle the data\n",
    "    random.shuffle(data)\n",
    "    #2 split it into n parts\n",
    "    folds = numpy.array_split(data, folds,0)\n",
    "    #3 loop through the parts, first use 1 as test, 1+ for training, 2 as test, etc.\n",
    "    for i in folds:\n",
    "        X_train, X_test, y_train, y_test = train_test_split(iris.data, iris.target, test_size=0.3, random_state=29)\n",
    "        # use i as the test\n",
    "        # use [:i] unioned with all of  [i+1:]  for training\n",
    "        #4 compare and test the accuracy for each set\n",
    "        # put this accuracy in accuracies\n",
    "    #5 average the accuracies, return accuracies.mean()\n",
    "    \n",
    "\n",
    "\n"
   ]
  },
  {
   "cell_type": "code",
   "execution_count": 48,
   "metadata": {
    "collapsed": false
   },
   "outputs": [
    {
     "data": {
      "text/plain": [
       "[array([[ 5.1,  3.5,  1.4,  0.2],\n",
       "        [ 4.9,  3. ,  1.4,  0.2],\n",
       "        [ 5.1,  3.5,  1.4,  0.2],\n",
       "        [ 4.6,  3.1,  1.5,  0.2],\n",
       "        [ 5.1,  3.5,  1.4,  0.2],\n",
       "        [ 5. ,  3.6,  1.4,  0.2],\n",
       "        [ 4.6,  3.4,  1.4,  0.3],\n",
       "        [ 4.7,  3.2,  1.3,  0.2],\n",
       "        [ 5. ,  3.4,  1.5,  0.2],\n",
       "        [ 4.9,  3.1,  1.5,  0.1],\n",
       "        [ 5.1,  3.5,  1.4,  0.2],\n",
       "        [ 5.4,  3.7,  1.5,  0.2],\n",
       "        [ 5.4,  3.9,  1.7,  0.4],\n",
       "        [ 4.9,  3. ,  1.4,  0.2],\n",
       "        [ 5.4,  3.9,  1.7,  0.4],\n",
       "        [ 5.8,  4. ,  1.2,  0.2],\n",
       "        [ 4.9,  3. ,  1.4,  0.2],\n",
       "        [ 5.4,  3.9,  1.3,  0.4],\n",
       "        [ 5.1,  3.5,  1.4,  0.2],\n",
       "        [ 5.4,  3.7,  1.5,  0.2],\n",
       "        [ 5.7,  3.8,  1.7,  0.3],\n",
       "        [ 4.8,  3. ,  1.4,  0.1],\n",
       "        [ 5.4,  3.7,  1.5,  0.2],\n",
       "        [ 5.1,  3.8,  1.5,  0.3],\n",
       "        [ 5.7,  4.4,  1.5,  0.4],\n",
       "        [ 5.1,  3.5,  1.4,  0.2],\n",
       "        [ 4.3,  3. ,  1.1,  0.1],\n",
       "        [ 4.6,  3.6,  1. ,  0.2],\n",
       "        [ 5. ,  3. ,  1.6,  0.2],\n",
       "        [ 5.8,  4. ,  1.2,  0.2]]), array([[ 4.8,  3.4,  1.9,  0.2],\n",
       "        [ 5.8,  4. ,  1.2,  0.2],\n",
       "        [ 5.4,  3.4,  1.5,  0.4],\n",
       "        [ 5.7,  3.8,  1.7,  0.3],\n",
       "        [ 4.6,  3.4,  1.4,  0.3],\n",
       "        [ 5. ,  3.4,  1.6,  0.4],\n",
       "        [ 4.6,  3.6,  1. ,  0.2],\n",
       "        [ 5.4,  3.9,  1.3,  0.4],\n",
       "        [ 5.1,  3.8,  1.5,  0.3],\n",
       "        [ 5.2,  3.4,  1.4,  0.2],\n",
       "        [ 4.3,  3. ,  1.1,  0.1],\n",
       "        [ 4.6,  3.1,  1.5,  0.2],\n",
       "        [ 5.2,  3.5,  1.5,  0.2],\n",
       "        [ 4.6,  3.6,  1. ,  0.2],\n",
       "        [ 5.5,  4.2,  1.4,  0.2],\n",
       "        [ 4.6,  3.1,  1.5,  0.2],\n",
       "        [ 5.1,  3.4,  1.5,  0.2],\n",
       "        [ 5.1,  3.7,  1.5,  0.4],\n",
       "        [ 5.4,  3.9,  1.3,  0.4],\n",
       "        [ 5.5,  4.2,  1.4,  0.2],\n",
       "        [ 5.4,  3.4,  1.7,  0.2],\n",
       "        [ 5.1,  3.8,  1.5,  0.3],\n",
       "        [ 5.1,  3.3,  1.7,  0.5],\n",
       "        [ 6.9,  3.1,  4.9,  1.5],\n",
       "        [ 5. ,  3.2,  1.2,  0.2],\n",
       "        [ 4.9,  3.1,  1.5,  0.1],\n",
       "        [ 4.9,  3. ,  1.4,  0.2],\n",
       "        [ 5.1,  3.3,  1.7,  0.5],\n",
       "        [ 4.8,  3.1,  1.6,  0.2],\n",
       "        [ 4.6,  3.1,  1.5,  0.2]]), array([[ 4.8,  3. ,  1.4,  0.1],\n",
       "        [ 5.2,  3.5,  1.5,  0.2],\n",
       "        [ 4.8,  3.4,  1.6,  0.2],\n",
       "        [ 5. ,  2. ,  3.5,  1. ],\n",
       "        [ 5. ,  3.6,  1.4,  0.2],\n",
       "        [ 6.4,  3.2,  4.5,  1.5],\n",
       "        [ 5.8,  4. ,  1.2,  0.2],\n",
       "        [ 5.5,  4.2,  1.4,  0.2],\n",
       "        [ 6.7,  3.1,  4.4,  1.4],\n",
       "        [ 5.1,  3.5,  1.4,  0.2],\n",
       "        [ 6.4,  3.2,  4.5,  1.5],\n",
       "        [ 4.7,  3.2,  1.6,  0.2],\n",
       "        [ 4.7,  3.2,  1.6,  0.2],\n",
       "        [ 5. ,  3.6,  1.4,  0.2],\n",
       "        [ 4.8,  3. ,  1.4,  0.1],\n",
       "        [ 4.8,  3. ,  1.4,  0.3],\n",
       "        [ 5.4,  3.9,  1.7,  0.4],\n",
       "        [ 4.9,  2.4,  3.3,  1. ],\n",
       "        [ 5.1,  3.8,  1.5,  0.3],\n",
       "        [ 5.2,  3.5,  1.5,  0.2],\n",
       "        [ 4.4,  3. ,  1.3,  0.2],\n",
       "        [ 5.1,  3.5,  1.4,  0.3],\n",
       "        [ 6.3,  3.3,  4.7,  1.6],\n",
       "        [ 6.4,  3.2,  4.5,  1.5],\n",
       "        [ 5.8,  2.7,  4.1,  1. ],\n",
       "        [ 5.2,  2.7,  3.9,  1.4],\n",
       "        [ 4.8,  3. ,  1.4,  0.1],\n",
       "        [ 5.2,  2.7,  3.9,  1.4],\n",
       "        [ 4.9,  2.4,  3.3,  1. ],\n",
       "        [ 6.7,  3. ,  5. ,  1.7]]), array([[ 4.6,  3.4,  1.4,  0.3],\n",
       "        [ 6.7,  3. ,  5. ,  1.7],\n",
       "        [ 4.4,  3. ,  1.3,  0.2],\n",
       "        [ 6. ,  2.7,  5.1,  1.6],\n",
       "        [ 5.5,  2.6,  4.4,  1.2],\n",
       "        [ 6.3,  2.5,  4.9,  1.5],\n",
       "        [ 5.1,  3.5,  1.4,  0.2],\n",
       "        [ 5.7,  4.4,  1.5,  0.4],\n",
       "        [ 5. ,  3.4,  1.6,  0.4],\n",
       "        [ 5.6,  2.5,  3.9,  1.1],\n",
       "        [ 5.5,  3.5,  1.3,  0.2],\n",
       "        [ 4.8,  3.4,  1.9,  0.2],\n",
       "        [ 5.3,  3.7,  1.5,  0.2],\n",
       "        [ 6.7,  3.1,  4.4,  1.4],\n",
       "        [ 4.6,  3.4,  1.4,  0.3],\n",
       "        [ 4.8,  3. ,  1.4,  0.1],\n",
       "        [ 6.1,  2.8,  4.7,  1.2],\n",
       "        [ 4.4,  3.2,  1.3,  0.2],\n",
       "        [ 6.1,  2.9,  4.7,  1.4],\n",
       "        [ 5.7,  3. ,  4.2,  1.2],\n",
       "        [ 5. ,  2.3,  3.3,  1. ],\n",
       "        [ 7.3,  2.9,  6.3,  1.8],\n",
       "        [ 5.4,  3. ,  4.5,  1.5],\n",
       "        [ 4.6,  3.6,  1. ,  0.2],\n",
       "        [ 4.9,  2.5,  4.5,  1.7],\n",
       "        [ 6.9,  3.1,  4.9,  1.5],\n",
       "        [ 5.6,  2.9,  3.6,  1.3],\n",
       "        [ 6.1,  2.8,  4. ,  1.3],\n",
       "        [ 6.5,  3.2,  5.1,  2. ],\n",
       "        [ 6.5,  3.2,  5.1,  2. ]]), array([[ 5.4,  3.7,  1.5,  0.2],\n",
       "        [ 4.8,  3.4,  1.6,  0.2],\n",
       "        [ 5. ,  3.4,  1.5,  0.2],\n",
       "        [ 6.7,  3.1,  4.7,  1.5],\n",
       "        [ 5.4,  3.9,  1.7,  0.4],\n",
       "        [ 4.4,  3. ,  1.3,  0.2],\n",
       "        [ 5.8,  2.7,  5.1,  1.9],\n",
       "        [ 5.7,  2.6,  3.5,  1. ],\n",
       "        [ 6.3,  3.3,  4.7,  1.6],\n",
       "        [ 4.8,  3. ,  1.4,  0.1],\n",
       "        [ 5.6,  3. ,  4.1,  1.3],\n",
       "        [ 4.8,  3.4,  1.6,  0.2],\n",
       "        [ 6.1,  2.8,  4. ,  1.3],\n",
       "        [ 5.6,  2.9,  3.6,  1.3],\n",
       "        [ 4.9,  2.4,  3.3,  1. ],\n",
       "        [ 5. ,  3.4,  1.5,  0.2],\n",
       "        [ 5.5,  4.2,  1.4,  0.2],\n",
       "        [ 6. ,  2.2,  4. ,  1. ],\n",
       "        [ 5.5,  2.3,  4. ,  1.3],\n",
       "        [ 4.4,  3.2,  1.3,  0.2],\n",
       "        [ 5.4,  3.7,  1.5,  0.2],\n",
       "        [ 6.4,  2.8,  5.6,  2.2],\n",
       "        [ 5.1,  3.5,  1.4,  0.2],\n",
       "        [ 6.4,  2.8,  5.6,  2.2],\n",
       "        [ 5. ,  3.5,  1.3,  0.3],\n",
       "        [ 5.9,  3.2,  4.8,  1.8],\n",
       "        [ 5.5,  2.4,  3.8,  1.1],\n",
       "        [ 5.8,  2.7,  5.1,  1.9],\n",
       "        [ 6.3,  2.3,  4.4,  1.3],\n",
       "        [ 6.2,  3.4,  5.4,  2.3]])]"
      ]
     },
     "execution_count": 48,
     "metadata": {},
     "output_type": "execute_result"
    }
   ],
   "source": [
    "cross_validate(iris.data, 5)\n"
   ]
  },
  {
   "cell_type": "code",
   "execution_count": null,
   "metadata": {
    "collapsed": true
   },
   "outputs": [],
   "source": []
  }
 ],
 "metadata": {
  "kernelspec": {
   "display_name": "Python 2",
   "language": "python",
   "name": "python2"
  },
  "language_info": {
   "codemirror_mode": {
    "name": "ipython",
    "version": 2
   },
   "file_extension": ".py",
   "mimetype": "text/x-python",
   "name": "python",
   "nbconvert_exporter": "python",
   "pygments_lexer": "ipython2",
   "version": "2.7.9"
  }
 },
 "nbformat": 4,
 "nbformat_minor": 0
}
