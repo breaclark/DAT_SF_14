{
 "cells": [
  {
   "cell_type": "markdown",
   "metadata": {},
   "source": [
    "# Bechdel Test Data Analysis\n",
    "\n",
    "The aim of this project will be to predict a movie's Bechdel Test verdict based on information like rating, genre, budget, cast, etc. \n",
    "\n",
    "The Bechdel Test: A test consisting of 3 criteria that build on eachother, meant to test if a movie has a certain level of female representation. To pass the Bechdel Test, a movie must...\n",
    "1. Have at least 2 named female characters\n",
    "2. The female characters must have a conversation with each other\n",
    "3. They must talk about something other than men\n",
    "If you want to know more about the Bechdel Test, you can find out more here https://en.wikipedia.org/wiki/Bechdel_test\n",
    "\n",
    "The data that I started with for this project came from https://github.com/fivethirtyeight/data/tree/master/bechdel, Fivethirtyeight's github page. The following article uses this data set to show how movies which pass the Bechdel Test tend to do better in the box office. http://fivethirtyeight.com/features/the-dollar-and-cents-case-against-hollywoods-exclusion-of-women/ I aim to build upon this data and discover new trends.\n",
    "\n",
    "First, here are a few charts based on the original data set."
   ]
  },
  {
   "cell_type": "markdown",
   "metadata": {},
   "source": [
    "# I: Preliminary Charts"
   ]
  },
  {
   "cell_type": "code",
   "execution_count": 2,
   "metadata": {
    "collapsed": false
   },
   "outputs": [
    {
     "data": {
      "text/html": [
       "<div style=\"max-height:1000px;max-width:1500px;overflow:auto;\">\n",
       "<table border=\"1\" class=\"dataframe\">\n",
       "  <thead>\n",
       "    <tr style=\"text-align: right;\">\n",
       "      <th></th>\n",
       "      <th>year</th>\n",
       "      <th>imdb</th>\n",
       "      <th>title</th>\n",
       "      <th>clean_test</th>\n",
       "      <th>binary</th>\n",
       "      <th>genre</th>\n",
       "      <th>age_rating</th>\n",
       "      <th>budget_2013$</th>\n",
       "    </tr>\n",
       "  </thead>\n",
       "  <tbody>\n",
       "    <tr>\n",
       "      <th>0</th>\n",
       "      <td> 2013</td>\n",
       "      <td> tt1711425</td>\n",
       "      <td>    21 &amp;amp; Over</td>\n",
       "      <td> notalk</td>\n",
       "      <td> FAIL</td>\n",
       "      <td> comedy</td>\n",
       "      <td>    R</td>\n",
       "      <td> 13000000</td>\n",
       "    </tr>\n",
       "    <tr>\n",
       "      <th>1</th>\n",
       "      <td> 2012</td>\n",
       "      <td> tt1343727</td>\n",
       "      <td>         Dredd 3D</td>\n",
       "      <td>     ok</td>\n",
       "      <td> PASS</td>\n",
       "      <td>  scifi</td>\n",
       "      <td>    R</td>\n",
       "      <td> 45658735</td>\n",
       "    </tr>\n",
       "    <tr>\n",
       "      <th>2</th>\n",
       "      <td> 2013</td>\n",
       "      <td> tt2024544</td>\n",
       "      <td> 12 Years a Slave</td>\n",
       "      <td> notalk</td>\n",
       "      <td> FAIL</td>\n",
       "      <td>  drama</td>\n",
       "      <td>    R</td>\n",
       "      <td> 20000000</td>\n",
       "    </tr>\n",
       "    <tr>\n",
       "      <th>3</th>\n",
       "      <td> 2013</td>\n",
       "      <td> tt1272878</td>\n",
       "      <td>           2 Guns</td>\n",
       "      <td> notalk</td>\n",
       "      <td> FAIL</td>\n",
       "      <td> action</td>\n",
       "      <td>    R</td>\n",
       "      <td> 61000000</td>\n",
       "    </tr>\n",
       "    <tr>\n",
       "      <th>4</th>\n",
       "      <td> 2013</td>\n",
       "      <td> tt0453562</td>\n",
       "      <td>               42</td>\n",
       "      <td>    men</td>\n",
       "      <td> FAIL</td>\n",
       "      <td>  drama</td>\n",
       "      <td> PG13</td>\n",
       "      <td> 40000000</td>\n",
       "    </tr>\n",
       "  </tbody>\n",
       "</table>\n",
       "</div>"
      ],
      "text/plain": [
       "   year       imdb             title clean_test binary   genre age_rating  \\\n",
       "0  2013  tt1711425     21 &amp; Over     notalk   FAIL  comedy          R   \n",
       "1  2012  tt1343727          Dredd 3D         ok   PASS   scifi          R   \n",
       "2  2013  tt2024544  12 Years a Slave     notalk   FAIL   drama          R   \n",
       "3  2013  tt1272878            2 Guns     notalk   FAIL  action          R   \n",
       "4  2013  tt0453562                42        men   FAIL   drama       PG13   \n",
       "\n",
       "   budget_2013$  \n",
       "0      13000000  \n",
       "1      45658735  \n",
       "2      20000000  \n",
       "3      61000000  \n",
       "4      40000000  "
      ]
     },
     "execution_count": 2,
     "metadata": {},
     "output_type": "execute_result"
    }
   ],
   "source": [
    "import numpy as np\n",
    "import pandas as pd\n",
    "import matplotlib.pyplot as plt\n",
    "%matplotlib inline\n",
    "\n",
    "df = pd.read_csv(\"bechdel_data_min.csv\")\n",
    "df.head()"
   ]
  },
  {
   "cell_type": "markdown",
   "metadata": {
    "collapsed": true
   },
   "source": [
    "Here you can actually see some columns I added in later. The columns that are not filled with NaN's are the originals. "
   ]
  },
  {
   "cell_type": "code",
   "execution_count": 3,
   "metadata": {
    "collapsed": false
   },
   "outputs": [
    {
     "data": {
      "image/png": "[encoded data removed]",
      "text/plain": [
       "<matplotlib.figure.Figure at 0x1091c8290>"
      ]
     },
     "metadata": {},
     "output_type": "display_data"
    }
   ],
   "source": [
    "# making a chart of number of passing movies per year\n",
    "\n",
    "passed_per_year = []\n",
    "\n",
    "for i in xrange(1970, 2014):\n",
    "    passed = len(df[(df.binary == \"PASS\") & (df.year == i)])\n",
    "    passed_per_year.append([i, (passed)])\n",
    "    \n",
    "df_ppy = pd.DataFrame(passed_per_year, columns = ['year', 'passing'])\n",
    "\n",
    "# making a chart of percentage of passing movies per year\n",
    "\n",
    "passed_vs_total = []\n",
    "\n",
    "for i in xrange(1970, 2014):\n",
    "    passed = len(df[(df.binary == \"PASS\") & (df.year == i)])\n",
    "    total = len(df[df.year == i])\n",
    "    passed_vs_total.append([i, (passed/float(total))*100])\n",
    "    \n",
    "df_pvt = pd.DataFrame(passed_vs_total, columns = ['year', 'p_passing'])\n",
    "\n",
    "plt.subplot(2, 1, 1)\n",
    "plt.bar(df_ppy.year, df_ppy.passing,1, color='deepskyblue')\n",
    "plt.ylabel('Passing Movies')\n",
    "plt.title('Passing Movies Per Year')\n",
    "\n",
    "plt.subplot(2, 1, 2)\n",
    "plt.bar(df_pvt.year, df_pvt.p_passing,1, color='mediumturquoise')\n",
    "plt.ylabel('Percentage of Passing Movies')\n",
    "plt.title('Percentage of Passing Movies Per Year')\n",
    "plt.subplots_adjust(hspace=1)"
   ]
  },
  {
   "cell_type": "markdown",
   "metadata": {},
   "source": [
    "While it appears that movies these days are more likely to pass the Bechdel test, it's just that more movies are being produced. About half the movies pass per year. "
   ]
  },
  {
   "cell_type": "code",
   "execution_count": 4,
   "metadata": {
    "collapsed": false
   },
   "outputs": [
    {
     "data": {
      "text/plain": [
       "<matplotlib.text.Text at 0x1097a0790>"
      ]
     },
     "execution_count": 4,
     "metadata": {},
     "output_type": "execute_result"
    },
    {
     "data": {
      "image/png": "[encoded data removed]",
      "text/plain": [
       "<matplotlib.figure.Figure at 0x10936c890>"
      ]
     },
     "metadata": {},
     "output_type": "display_data"
    }
   ],
   "source": [
    "# percent of total movies surveyed that totally pass, fail different parts\n",
    "\n",
    "length = len(df)\n",
    "categories = [\"ok\", \"dubious\", \"nowomen\", \"notalk\", \"men\"]\n",
    "criterion_ps = []\n",
    "for category in categories:\n",
    "    criterion_ps.append((len(df[df.clean_test == category]))/float(length))\n",
    "\n",
    "\n",
    "cats = [\"Pass\", \"Dubious\", \"Not Enough \\nFemale Characters\", \"Female Characters Don't \\nHave a Conversation\", \"Female Characters \\nOnly Talk About Men\"]\n",
    "plt.pie(criterion_ps, explode=None, labels = cats,\n",
    "    colors=('springgreen', 'mediumturquoise', 'lightskyblue', 'lime', 'deepskyblue'),\n",
    "    autopct='%1.1f%%', pctdistance=0.6, shadow=True,\n",
    "    labeldistance=1.1, startangle=45, radius=None,\n",
    "    counterclock=True, wedgeprops=None, textprops=None)\n",
    "plt.axis('equal')\n",
    "plt.title('Percentage of Movies Surveyed that Meet Each Bechdel Test Criterion')\n"
   ]
  },
  {
   "cell_type": "markdown",
   "metadata": {},
   "source": [
    "Most movies fail the Bechdel test because even though they have named female characters, those characters don't ever talk to each other. "
   ]
  },
  {
   "cell_type": "code",
   "execution_count": 5,
   "metadata": {
    "collapsed": false
   },
   "outputs": [
    {
     "data": {
      "text/plain": [
       "<matplotlib.text.Text at 0x10a0fb450>"
      ]
     },
     "execution_count": 5,
     "metadata": {},
     "output_type": "execute_result"
    },
    {
     "data": {
      "image/png": "[encoded data removed]",
      "text/plain": [
       "<matplotlib.figure.Figure at 0x109491e10>"
      ]
     },
     "metadata": {},
     "output_type": "display_data"
    }
   ],
   "source": [
    "# of movies that passed, what percents of each genre\n",
    "\n",
    "passed_total = len(df[df.binary == \"PASS\"])\n",
    "genres = [\"action\",\"comedy\",\"drama\",\"horror\",\"kids\",\"romance\",\"scifi\"]\n",
    "genre_ps = []\n",
    "for genre in genres:\n",
    "    genre_ps.append((len(df[(df.binary == \"PASS\") & (df.genre == genre )]))/float(passed_total))\n",
    "\n",
    "cats = [\"Action\",\"Comedy\",\"Drama\",\"Horror\",\"Kids\",\"Romance\",\"Science Fiction\"]\n",
    "plt.pie(genre_ps, explode=None, labels = cats,\n",
    "    colors=('springgreen', 'mediumturquoise', 'lightskyblue', 'lime', 'deepskyblue', 'slategray','dodgerblue'),\n",
    "    autopct='%1.1f%%', pctdistance=0.6, shadow=True,\n",
    "    labeldistance=1.1, startangle=-15, radius=None,\n",
    "    counterclock=True, wedgeprops=None, textprops=None)\n",
    "plt.axis('equal')\n",
    "plt.title('Genre Breakdown of Passing Movies')"
   ]
  },
  {
   "cell_type": "code",
   "execution_count": 6,
   "metadata": {
    "collapsed": false
   },
   "outputs": [
    {
     "data": {
      "text/plain": [
       "<matplotlib.text.Text at 0x10a1e5490>"
      ]
     },
     "execution_count": 6,
     "metadata": {},
     "output_type": "execute_result"
    },
    {
     "data": {
      "image/png": "[encoded data removed]",
      "text/plain": [
       "<matplotlib.figure.Figure at 0x10a0f20d0>"
      ]
     },
     "metadata": {},
     "output_type": "display_data"
    }
   ],
   "source": [
    "# of movies that passed, what age rating of each movie\n",
    "\n",
    "ratings = [\"G\",\"PG\",\"PG13\",\"R\",\"NR\"]\n",
    "rating_ps = []\n",
    "for rating in ratings:\n",
    "    rating_ps.append((len(df[(df.binary == \"PASS\") & (df.age_rating == rating )]))/float(passed_total))\n",
    "\n",
    "plt.pie(rating_ps, explode=None, labels = ratings,\n",
    "    colors=('springgreen', 'mediumturquoise', 'lime', 'lightskyblue', 'deepskyblue'),\n",
    "    autopct='%1.1f%%', pctdistance=0.6, shadow=True,\n",
    "    labeldistance=1.1, startangle=None, radius=None,\n",
    "    counterclock=True, wedgeprops=None, textprops=None)\n",
    "plt.axis('equal')\n",
    "plt.title('Age Rating Breakdown of Passing Movies')"
   ]
  },
  {
   "cell_type": "markdown",
   "metadata": {},
   "source": [
    "As you can see here, sadly not very many kids movies pass the Bechdel test :( These are just some preliminary charts, there will be more to come once I add in more data. \n",
    "\n",
    "# II: Aquiring More Data\n",
    "\n",
    "To fill out the data more and make my analysis different from the previously mentioned article, I decided to add in imdb's star_rating, director, cast, and writers. I went through a few different ways of getting this data, and ultimately landed on IMDBpy."
   ]
  },
  {
   "cell_type": "code",
   "execution_count": 7,
   "metadata": {
    "collapsed": false
   },
   "outputs": [
    {
     "data": {
      "text/html": [
       "<div style=\"max-height:1000px;max-width:1500px;overflow:auto;\">\n",
       "<table border=\"1\" class=\"dataframe\">\n",
       "  <thead>\n",
       "    <tr style=\"text-align: right;\">\n",
       "      <th></th>\n",
       "      <th>year</th>\n",
       "      <th>imdb</th>\n",
       "      <th>title</th>\n",
       "      <th>clean_test</th>\n",
       "      <th>binary</th>\n",
       "      <th>genre</th>\n",
       "      <th>age_rating</th>\n",
       "      <th>budget_2013$</th>\n",
       "      <th>star_rating</th>\n",
       "    </tr>\n",
       "  </thead>\n",
       "  <tbody>\n",
       "    <tr>\n",
       "      <th>0</th>\n",
       "      <td> 2013</td>\n",
       "      <td> tt1711425</td>\n",
       "      <td>    21 &amp;amp; Over</td>\n",
       "      <td> notalk</td>\n",
       "      <td> FAIL</td>\n",
       "      <td> comedy</td>\n",
       "      <td>    R</td>\n",
       "      <td> 13000000</td>\n",
       "      <td> NaN</td>\n",
       "    </tr>\n",
       "    <tr>\n",
       "      <th>1</th>\n",
       "      <td> 2012</td>\n",
       "      <td> tt1343727</td>\n",
       "      <td>         Dredd 3D</td>\n",
       "      <td>     ok</td>\n",
       "      <td> PASS</td>\n",
       "      <td>  scifi</td>\n",
       "      <td>    R</td>\n",
       "      <td> 45658735</td>\n",
       "      <td> NaN</td>\n",
       "    </tr>\n",
       "    <tr>\n",
       "      <th>2</th>\n",
       "      <td> 2013</td>\n",
       "      <td> tt2024544</td>\n",
       "      <td> 12 Years a Slave</td>\n",
       "      <td> notalk</td>\n",
       "      <td> FAIL</td>\n",
       "      <td>  drama</td>\n",
       "      <td>    R</td>\n",
       "      <td> 20000000</td>\n",
       "      <td> NaN</td>\n",
       "    </tr>\n",
       "    <tr>\n",
       "      <th>3</th>\n",
       "      <td> 2013</td>\n",
       "      <td> tt1272878</td>\n",
       "      <td>           2 Guns</td>\n",
       "      <td> notalk</td>\n",
       "      <td> FAIL</td>\n",
       "      <td> action</td>\n",
       "      <td>    R</td>\n",
       "      <td> 61000000</td>\n",
       "      <td> NaN</td>\n",
       "    </tr>\n",
       "    <tr>\n",
       "      <th>4</th>\n",
       "      <td> 2013</td>\n",
       "      <td> tt0453562</td>\n",
       "      <td>               42</td>\n",
       "      <td>    men</td>\n",
       "      <td> FAIL</td>\n",
       "      <td>  drama</td>\n",
       "      <td> PG13</td>\n",
       "      <td> 40000000</td>\n",
       "      <td> 7.5</td>\n",
       "    </tr>\n",
       "  </tbody>\n",
       "</table>\n",
       "</div>"
      ],
      "text/plain": [
       "   year       imdb             title clean_test binary   genre age_rating  \\\n",
       "0  2013  tt1711425     21 &amp; Over     notalk   FAIL  comedy          R   \n",
       "1  2012  tt1343727          Dredd 3D         ok   PASS   scifi          R   \n",
       "2  2013  tt2024544  12 Years a Slave     notalk   FAIL   drama          R   \n",
       "3  2013  tt1272878            2 Guns     notalk   FAIL  action          R   \n",
       "4  2013  tt0453562                42        men   FAIL   drama       PG13   \n",
       "\n",
       "   budget_2013$  star_rating  \n",
       "0      13000000          NaN  \n",
       "1      45658735          NaN  \n",
       "2      20000000          NaN  \n",
       "3      61000000          NaN  \n",
       "4      40000000          7.5  "
      ]
     },
     "execution_count": 7,
     "metadata": {},
     "output_type": "execute_result"
    }
   ],
   "source": [
    "from imdb import IMDb\n",
    "im = IMDb()\n",
    "\n",
    "#just a little test to show imdbpy works\n",
    "id = df.iloc[4][1] # snagging the movie id for the movie \"42\"\n",
    "real_id = int(id[2:]) # converting to an int\n",
    "movie = im.get_movie(real_id) #getting the movie object from imdbpy\n",
    "df.loc[4, 'star_rating'] = movie['rating']# setting the cell\n",
    "df.head()"
   ]
  },
  {
   "cell_type": "markdown",
   "metadata": {},
   "source": [
    "When you lookup a movie on imdbpy, you get back a movie object, which holds information about the movie like star_rating and such. Here you can see in row: 4, column: star rating, the star rating has been changed to 7.5.\n",
    "\n",
    "So the code that follows is commented out because it takes a very long time to run. This was one struggle I faced when getting the imdb data. Either I could get all the data in a file and then find a way to parse it into a dataframe myself, or use IMDBpy which did that easily for me but took a long time. You can download IMDBpy  and get more information about it here http://imdbpy.sourceforge.net/"
   ]
  },
  {
   "cell_type": "code",
   "execution_count": 8,
   "metadata": {
    "collapsed": true
   },
   "outputs": [],
   "source": [
    "#movies = dict()\n",
    "#for i in range (len(df)):\n",
    "    #id = df.iloc[i][1]\n",
    "    #real_id = int(id[2:])\n",
    "    #movie = im.get_movie(real_id)\n",
    "    #movies[real_id] = movie\n",
    "    \n",
    "#def add_zeros(id_number):\n",
    "#    str_id = str(id_number)  \n",
    "#    while len(str_id) < 7: \n",
    "#        str_id = '0' + str_id     \n",
    "#    return str_id\n",
    "\n",
    "#def arr_to_string(thing):\n",
    "#    new = []\n",
    "#    for i in thing:\n",
    "#        new.append(str(i))\n",
    "#    return str(new)\n",
    "\n",
    "#for movie_id in movies:\n",
    "#    real_movie = movies[movie_id]   \n",
    "#    df_id = 'tt' + add_zeros(movie_id) \n",
    "#    if len(df[df.imdb == df_id].index.values) == 0:\n",
    "#        continue\n",
    "#    i = df[df.imdb == df_id].index.values[0]\n",
    "#    df.ix[i, 'star_rating'] = real_movie.get('rating')   \n",
    "#    df.ix[i, 'director'] = real_movie['directed by'][0]  \n",
    "#    df.ix[i, 'cast'] = arr_to_string(real_movie['actors'][:5])\n",
    "#    #df.ix[i, 'writer'] = arr_to_string(real_movie.get('writer'))\n",
    "#    df.ix[i, 'genre'] = real_movie['genre'][0]\n",
    "\n",
    "#df.to_csv('complete_movies.csv')"
   ]
  },
  {
   "cell_type": "markdown",
   "metadata": {},
   "source": [
    "Once I had taken the time to get all the data, I needed a way to put it somewhere so I could process it later. This is why this part is a little bit messy. \n",
    "\n",
    "The add_zeros function is necessary because in taking a string id, for example 'tt0021425', by making then taking [2:] of it, or '0021425', and then turning that into an int, we are left with 21425. This can be used to look up movies on imdbpy, but when we try to simply add back the 'tt' to look it up in our original dataframe, we get 'tt21425'.\n",
    "\n",
    "The arr_to_string function deals with a problem that I did not realize the root of until later. Dataframes are not great at holding arrays. Thus my messy way around it here was just to take the names of the writers and actors from the writer and actor objects and put them into a string which I'll later convert back into an array. "
   ]
  },
  {
   "cell_type": "markdown",
   "metadata": {},
   "source": [
    "# III: Prepping All the Data for Analysis\n",
    "\n",
    "So for the analysis phase of this project I'll be using a Decision Tree. Thus I must convert all of the data in each column into numbers. Categorizing the splits is not so straightforward for each label.\n",
    "\n",
    "years - split into 5 year periods\n",
    "\n",
    "ids, clean_test and titles - keep, but don't analyze\n",
    "\n",
    "binary, genre, rating, and director - use sci-kit's LabelEncoder()\n",
    "\n",
    "budgets - these turned out to be too big, so i interpreted them in the 1000s instead.\n",
    "\n",
    "star_ratings - make integer cutoffs\n",
    "\n",
    "cast, writer - something special which I'll talk about later"
   ]
  },
  {
   "cell_type": "code",
   "execution_count": 9,
   "metadata": {
    "collapsed": false
   },
   "outputs": [],
   "source": [
    "import math\n",
    "import string\n",
    "from sklearn import preprocessing\n",
    "from sklearn.cross_validation import train_test_split\n",
    "from sklearn.tree import DecisionTreeClassifier\n",
    "from sklearn import metrics\n",
    "from sklearn import cross_validation\n",
    "\n",
    "df = pd.read_csv(\"complete_movies.csv\")\n",
    "\n",
    "lab = preprocessing.LabelEncoder()\n",
    "df['binary'] = lab.fit_transform(df['binary'])"
   ]
  },
  {
   "cell_type": "code",
   "execution_count": 10,
   "metadata": {
    "collapsed": false
   },
   "outputs": [],
   "source": [
    "# making actor/writer strings back into arrays of actors/writers\n",
    "\n",
    "def string_to_arr(thing):\n",
    "    thing = string.replace(thing,\"'\", \"\")\n",
    "    thing = string.replace(thing,\"[\",\"\")\n",
    "    thing = string.replace(thing,\"]\",\"\")\n",
    "    new = string.split(thing, ',')\n",
    "    return new\n",
    "\n",
    "#first set all the nans to \"\"\n",
    "\n",
    "df.cast.fillna(\"\", inplace=True)\n",
    "df.writer.fillna(\"\", inplace=True)\n",
    "\n",
    "# because I can't store these in the dataframe, they go in their own array\n",
    "\n",
    "actor_array = []\n",
    "writer_array = [] \n",
    "for i in range (len(df)):\n",
    "    actor_array.append(string_to_arr(df.ix[i,10]))\n",
    "    writer_array.append(string_to_arr(df.ix[i,11]))\n"
   ]
  },
  {
   "cell_type": "markdown",
   "metadata": {},
   "source": [
    "Next I tackled how to tell how influential an actor or writer might be in the passing of a movie. I made a dictionary with actors as keys, and an array of 1s and 0s as values. Each 1 represents a passing movie the actor has appeared in, while each 0 represents a fail. Then I can easily check for any given actor what percentage of their movies has passed the test. Similarly for the writers."
   ]
  },
  {
   "cell_type": "code",
   "execution_count": 11,
   "metadata": {
    "collapsed": true
   },
   "outputs": [],
   "source": [
    "def make_into_dict(arr, df):\n",
    "    dictionary = {}\n",
    "    for i in range(len(arr)):\n",
    "        #verdict is 1 for pass, 0 for fail \n",
    "        verdict = df.ix[i,4]\n",
    "        #gets the cast list for movie index i \n",
    "        people = arr[i]\n",
    "        for person in people:\n",
    "            #puts a person in the dictionary and/or adds their passing/failing movie\n",
    "            if person in dictionary:\n",
    "                dictionary[person].append(verdict)\n",
    "            else:\n",
    "                dictionary[person] = [verdict]\n",
    "    return dictionary\n",
    "\n",
    "# Making the actual dictionaries for actors and writers\n",
    "\n",
    "actor_pass_dict = make_into_dict(actor_array, df)\n",
    "writer_pass_dict = make_into_dict(writer_array, df)"
   ]
  },
  {
   "cell_type": "markdown",
   "metadata": {},
   "source": [
    "For cast information, what I'll be doing is going through the actors dictionary and for each actor, assessing the percentage of their movies that pass. The more movies they are in, the more weight they have as well. Then I'll take the weighted average for a movie based on the main 5 (or less)cast members. I'll use this in conjuction with the decision tree to see if a movie will likely pass.\n",
    "\n",
    "I'll do the same with the writers."
   ]
  },
  {
   "cell_type": "code",
   "execution_count": 12,
   "metadata": {
    "collapsed": false
   },
   "outputs": [
    {
     "name": "stdout",
     "output_type": "stream",
     "text": [
      "[0, 1, 0, 0, 1, 1, 0, 0]\n",
      "0.375\n"
     ]
    }
   ],
   "source": [
    "#takes the original dictionary and calculates percentage\n",
    "#passing per each key in the original dictionary\n",
    "#then puts this into a  new dictionary\n",
    "def percentages_dictionary(orig_dict):\n",
    "    percents = {}\n",
    "    for person in orig_dict:\n",
    "        movies = orig_dict[person]\n",
    "        percents[person] = np.sum(movies)/float(len(movies))\n",
    "    return percents\n",
    "    \n",
    "print actor_pass_dict['Mark Wahlberg']\n",
    "actor_percents = percentages_dictionary(actor_pass_dict)\n",
    "print actor_percents['Mark Wahlberg']"
   ]
  },
  {
   "cell_type": "code",
   "execution_count": 13,
   "metadata": {
    "collapsed": false
   },
   "outputs": [],
   "source": [
    "#just doing the same for the writers dictionary as well\n",
    "\n",
    "writer_percents = percentages_dictionary(writer_pass_dict)"
   ]
  },
  {
   "cell_type": "code",
   "execution_count": 14,
   "metadata": {
    "collapsed": false
   },
   "outputs": [],
   "source": [
    "for i in range (len(df)):\n",
    "    cast = actor_array[i]\n",
    "    writers = writer_array[i]\n",
    "    cast_count = 0\n",
    "    cast_sum = 0\n",
    "    write_count = 0\n",
    "    write_sum = 0\n",
    "    if cast[0] != \"\":\n",
    "        for person in cast:\n",
    "            cast_sum += actor_percents[person]*(len(actor_pass_dict[person]))\n",
    "            cast_count += 1\n",
    "        cast_avg = cast_sum/cast_count \n",
    "    else:\n",
    "        cast_avg = 0\n",
    "    if writers[0] != \"\":\n",
    "        for writer in writers:\n",
    "            write_sum += writer_percents[writer]*(len(writer_pass_dict[writer]))\n",
    "            write_count += 1\n",
    "        write_avg = write_sum/write_count \n",
    "    else:\n",
    "        write_avg = 0\n",
    "    df.ix[i,10] = cast_avg\n",
    "    df.ix[i,11] = write_avg\n",
    "\n",
    "df.to_csv('complete_movies_2.csv')"
   ]
  },
  {
   "cell_type": "code",
   "execution_count": 15,
   "metadata": {
    "collapsed": false
   },
   "outputs": [],
   "source": [
    "#making clean_test, binary, genre, age_rating, and director into ints\n",
    "\n",
    "lab = preprocessing.LabelEncoder()\n",
    "categoricals = ['clean_test','genre','age_rating','director']\n",
    "for categorical in categoricals: df[categorical] = lab.fit_transform(df[categorical])"
   ]
  },
  {
   "cell_type": "code",
   "execution_count": 16,
   "metadata": {
    "collapsed": true
   },
   "outputs": [],
   "source": [
    "#making star_ratings into ints\n",
    "\n",
    "for i in range (len(df)):\n",
    "    star = df.ix[i,8]\n",
    "    if not math.isnan(star):\n",
    "        id = int(star)\n",
    "        df.ix[i, 8] = id\n",
    "    else:\n",
    "        df.ix[i, 8] = -1"
   ]
  },
  {
   "cell_type": "code",
   "execution_count": 17,
   "metadata": {
    "collapsed": true
   },
   "outputs": [],
   "source": [
    "#puts years into year ranges\n",
    "\n",
    "for i in range (len(df)):\n",
    "    year = df.ix[i,0]\n",
    "    #gets decade\n",
    "    new_year = (year % 100) - (year % 10)\n",
    "    #rounds new_year to the nearest half decade\n",
    "    if year%10 >= 5:\n",
    "        new_year += 5\n",
    "    df.ix[i,0] = new_year"
   ]
  },
  {
   "cell_type": "code",
   "execution_count": 18,
   "metadata": {
    "collapsed": true
   },
   "outputs": [],
   "source": [
    "# Dividing budget_2013$ by 1000 so it can fit into int32 format\n",
    "\n",
    "for i in range (len(df)):\n",
    "    budget = df.ix[i,7]\n",
    "    if not math.isnan(budget):\n",
    "        df.ix[i,7] = budget/1000\n",
    "    else:\n",
    "        df.ix[i,7] = 10"
   ]
  },
  {
   "cell_type": "markdown",
   "metadata": {
    "collapsed": false
   },
   "source": [
    "Let's take a look at the writer and cast information now"
   ]
  },
  {
   "cell_type": "code",
   "execution_count": 19,
   "metadata": {
    "collapsed": false
   },
   "outputs": [
    {
     "name": "stdout",
     "output_type": "stream",
     "text": [
      "7.5\n",
      "0.82948543326\n",
      "0.75\n",
      "5.4\n",
      "1.35625698324\n",
      "1.2\n"
     ]
    }
   ],
   "source": [
    "print df.writer.max()\n",
    "print df.writer.mean()\n",
    "print df.writer.median()\n",
    "print df.cast.max()\n",
    "print df.cast.mean()\n",
    "print df.cast.median()"
   ]
  },
  {
   "cell_type": "markdown",
   "metadata": {},
   "source": [
    "Now I'll convert that into values that the Decision Tree Classifier can handle. I've decided (with some guessing and checking) that if a cast's average is more than 1.5, it will get a 1, and if a writer group's average is more than 0.8, it will get a 1. "
   ]
  },
  {
   "cell_type": "code",
   "execution_count": 20,
   "metadata": {
    "collapsed": false
   },
   "outputs": [],
   "source": [
    "for i in range (len(df)):\n",
    "    if df.ix[i,10] >= 1.5: #cast avg\n",
    "        df.ix[i,10] = 1\n",
    "    else:\n",
    "        df.ix[i,10] = 0\n",
    "    if df.ix[i,11] >= .8: #writer avg\n",
    "        df.ix[i,11] = 1\n",
    "    else:\n",
    "        df.ix[i,11] = 0\n"
   ]
  },
  {
   "cell_type": "code",
   "execution_count": 21,
   "metadata": {
    "collapsed": false
   },
   "outputs": [
    {
     "data": {
      "text/plain": [
       "year            False\n",
       "imdb            False\n",
       "title           False\n",
       "clean_test      False\n",
       "binary          False\n",
       "genre           False\n",
       "age_rating      False\n",
       "budget_2013$    False\n",
       "star_rating     False\n",
       "director        False\n",
       "cast            False\n",
       "writer          False\n",
       "dtype: bool"
      ]
     },
     "execution_count": 21,
     "metadata": {},
     "output_type": "execute_result"
    }
   ],
   "source": [
    "#Checking to make sure all NaN's are filled\n",
    "\n",
    "df.isnull().any()"
   ]
  },
  {
   "cell_type": "code",
   "execution_count": 22,
   "metadata": {
    "collapsed": false
   },
   "outputs": [
    {
     "data": {
      "text/html": [
       "<div style=\"max-height:1000px;max-width:1500px;overflow:auto;\">\n",
       "<table border=\"1\" class=\"dataframe\">\n",
       "  <thead>\n",
       "    <tr style=\"text-align: right;\">\n",
       "      <th></th>\n",
       "      <th>year</th>\n",
       "      <th>imdb</th>\n",
       "      <th>title</th>\n",
       "      <th>clean_test</th>\n",
       "      <th>binary</th>\n",
       "      <th>genre</th>\n",
       "      <th>age_rating</th>\n",
       "      <th>budget_2013$</th>\n",
       "      <th>star_rating</th>\n",
       "      <th>director</th>\n",
       "      <th>cast</th>\n",
       "      <th>writer</th>\n",
       "    </tr>\n",
       "  </thead>\n",
       "  <tbody>\n",
       "    <tr>\n",
       "      <th>0</th>\n",
       "      <td> 10</td>\n",
       "      <td> tt1711425</td>\n",
       "      <td>    21 &amp;amp; Over</td>\n",
       "      <td> 2</td>\n",
       "      <td> 0</td>\n",
       "      <td> 4</td>\n",
       "      <td> 4</td>\n",
       "      <td> 13000</td>\n",
       "      <td> 5</td>\n",
       "      <td> 439</td>\n",
       "      <td> 0</td>\n",
       "      <td> 0</td>\n",
       "    </tr>\n",
       "    <tr>\n",
       "      <th>1</th>\n",
       "      <td> 10</td>\n",
       "      <td> tt1343727</td>\n",
       "      <td>         Dredd 3D</td>\n",
       "      <td> 4</td>\n",
       "      <td> 1</td>\n",
       "      <td> 0</td>\n",
       "      <td> 4</td>\n",
       "      <td> 45658</td>\n",
       "      <td> 7</td>\n",
       "      <td> 671</td>\n",
       "      <td> 0</td>\n",
       "      <td> 1</td>\n",
       "    </tr>\n",
       "    <tr>\n",
       "      <th>2</th>\n",
       "      <td> 10</td>\n",
       "      <td> tt2024544</td>\n",
       "      <td> 12 Years a Slave</td>\n",
       "      <td> 2</td>\n",
       "      <td> 0</td>\n",
       "      <td> 3</td>\n",
       "      <td> 4</td>\n",
       "      <td> 20000</td>\n",
       "      <td> 8</td>\n",
       "      <td> 828</td>\n",
       "      <td> 0</td>\n",
       "      <td> 0</td>\n",
       "    </tr>\n",
       "    <tr>\n",
       "      <th>3</th>\n",
       "      <td> 10</td>\n",
       "      <td> tt1272878</td>\n",
       "      <td>           2 Guns</td>\n",
       "      <td> 2</td>\n",
       "      <td> 0</td>\n",
       "      <td> 0</td>\n",
       "      <td> 4</td>\n",
       "      <td> 61000</td>\n",
       "      <td> 6</td>\n",
       "      <td>  65</td>\n",
       "      <td> 0</td>\n",
       "      <td> 0</td>\n",
       "    </tr>\n",
       "    <tr>\n",
       "      <th>4</th>\n",
       "      <td> 10</td>\n",
       "      <td> tt0453562</td>\n",
       "      <td>               42</td>\n",
       "      <td> 1</td>\n",
       "      <td> 0</td>\n",
       "      <td> 3</td>\n",
       "      <td> 3</td>\n",
       "      <td> 40000</td>\n",
       "      <td> 7</td>\n",
       "      <td> 102</td>\n",
       "      <td> 0</td>\n",
       "      <td> 0</td>\n",
       "    </tr>\n",
       "  </tbody>\n",
       "</table>\n",
       "</div>"
      ],
      "text/plain": [
       "   year       imdb             title  clean_test  binary  genre  age_rating  \\\n",
       "0    10  tt1711425     21 &amp; Over           2       0      4           4   \n",
       "1    10  tt1343727          Dredd 3D           4       1      0           4   \n",
       "2    10  tt2024544  12 Years a Slave           2       0      3           4   \n",
       "3    10  tt1272878            2 Guns           2       0      0           4   \n",
       "4    10  tt0453562                42           1       0      3           3   \n",
       "\n",
       "   budget_2013$  star_rating  director cast writer  \n",
       "0         13000            5       439    0      0  \n",
       "1         45658            7       671    0      1  \n",
       "2         20000            8       828    0      0  \n",
       "3         61000            6        65    0      0  \n",
       "4         40000            7       102    0      0  "
      ]
     },
     "execution_count": 22,
     "metadata": {},
     "output_type": "execute_result"
    }
   ],
   "source": [
    "#Let's just check out what the dataframe looks like now too\n",
    "\n",
    "df.head()"
   ]
  },
  {
   "cell_type": "markdown",
   "metadata": {},
   "source": [
    "# IV: The Analysis"
   ]
  },
  {
   "cell_type": "markdown",
   "metadata": {},
   "source": [
    "In creating the decision tree, I'll drop the imdb id and title columns becuase they aren't really important here. I'll also drop the clean test column because as it turns out that is a huge tell as to whether or not the movie will pass :P "
   ]
  },
  {
   "cell_type": "code",
   "execution_count": 23,
   "metadata": {
    "collapsed": false
   },
   "outputs": [
    {
     "data": {
      "text/plain": [
       "DecisionTreeClassifier(compute_importances=None, criterion='gini',\n",
       "            max_depth=2, max_features=None, max_leaf_nodes=None,\n",
       "            min_density=None, min_samples_leaf=1, min_samples_split=2,\n",
       "            random_state=4, splitter='best')"
      ]
     },
     "execution_count": 23,
     "metadata": {},
     "output_type": "execute_result"
    }
   ],
   "source": [
    "df_new = df.drop(['imdb','title','clean_test'], axis = 1)\n",
    "feature_cols = df_new.drop(['binary'], axis = 1).columns \n",
    "#all but the imdb, title, binary columns\n",
    "X = df_new[feature_cols] # have to add in the other columns from arrays\n",
    "y = df_new.binary\n",
    "\n",
    "treeclf = DecisionTreeClassifier(max_depth = 2, random_state=4)\n",
    "treeclf.fit(X, y)"
   ]
  },
  {
   "cell_type": "code",
   "execution_count": 24,
   "metadata": {
    "collapsed": false
   },
   "outputs": [
    {
     "name": "stdout",
     "output_type": "stream",
     "text": [
      "0.860335195531\n"
     ]
    }
   ],
   "source": [
    "from sklearn.metrics import accuracy_score\n",
    "\n",
    "X_train, X_test, y_train, y_test = train_test_split(X, \n",
    "        y, test_size=0.1, random_state=3)\n",
    "\n",
    "treeclf.fit(X_train, y_train)\n",
    "y_predictions = treeclf.predict(X_test)\n",
    "print accuracy_score(y_test, y_predictions)"
   ]
  },
  {
   "cell_type": "code",
   "execution_count": 25,
   "metadata": {
    "collapsed": false,
    "scrolled": true
   },
   "outputs": [
    {
     "name": "stdout",
     "output_type": "stream",
     "text": [
      "[ 0.85123967  0.80833333  0.90833333  0.85833333  0.87394958  0.8907563\n",
      "  0.83193277  0.79831933  0.82352941  0.87394958  0.87394958  0.82352941\n",
      "  0.8487395   0.87394958  0.83193277]\n",
      "0.851385165637\n"
     ]
    }
   ],
   "source": [
    "scores = cross_validation.cross_val_score(treeclf, X, y, cv=15)\n",
    "print scores\n",
    "print scores.mean()"
   ]
  },
  {
   "cell_type": "code",
   "execution_count": 89,
   "metadata": {
    "collapsed": false,
    "scrolled": true
   },
   "outputs": [
    {
     "data": {
      "text/plain": [
       "array([[77, 20],\n",
       "       [ 5, 77]])"
      ]
     },
     "execution_count": 89,
     "metadata": {},
     "output_type": "execute_result"
    }
   ],
   "source": [
    "from sklearn.metrics import (confusion_matrix, roc_curve, auc)\n",
    "cm = confusion_matrix(y_test, y_predictions)\n",
    "cm"
   ]
  },
  {
   "cell_type": "code",
   "execution_count": 90,
   "metadata": {
    "collapsed": false
   },
   "outputs": [
    {
     "data": {
      "image/png": "[encoded data removed]",
      "text/plain": [
       "<matplotlib.figure.Figure at 0x10934f110>"
      ]
     },
     "metadata": {},
     "output_type": "display_data"
    }
   ],
   "source": [
    "target_names=['Does Not Pass', 'Passes']\n",
    "\n",
    "def plot_confusion_matrix(cm, title='Confusion matrix', cmap=plt.cm.Blues):\n",
    "    plt.imshow(cm, interpolation='nearest', cmap=cmap)\n",
    "    plt.title(title)\n",
    "    plt.colorbar()\n",
    "    tick_marks = np.arange(len(target_names))\n",
    "    plt.xticks(tick_marks, target_names)\n",
    "    plt.yticks(tick_marks, target_names)\n",
    "    plt.tight_layout()\n",
    "    plt.ylabel('True label')\n",
    "    plt.xlabel('Predicted label')\n",
    "plot_confusion_matrix(cm, title='Confusion matrix')"
   ]
  },
  {
   "cell_type": "code",
   "execution_count": 93,
   "metadata": {
    "collapsed": false
   },
   "outputs": [
    {
     "data": {
      "image/png": "[encoded data removed]",
      "text/plain": [
       "<matplotlib.figure.Figure at 0x10970b450>"
      ]
     },
     "metadata": {},
     "output_type": "display_data"
    }
   ],
   "source": [
    "proba = treeclf.predict_proba(X_test)\n",
    "\n",
    "def plot_roc_curve(y_test, p_proba):\n",
    "    # calculates: false positive rate, true positive rate, \n",
    "    fpr, tpr, thresholds = roc_curve(y_test, p_proba[:, 1])\n",
    "    \n",
    "    roc_auc = auc(fpr, tpr)\n",
    "    # Plot ROC curve\n",
    "    plt.plot(fpr, tpr, label= 'AUC = %0.3f' % roc_auc)\n",
    "    plt.plot([0, 1], [0, 1], 'k--')  # random predictions curve\n",
    "    plt.xlim([0.0, 1.0])\n",
    "    plt.ylim([0.0, 1.0])\n",
    "    plt.xlabel('False Positive Rate or (1 - Specifity)')\n",
    "    plt.ylabel('True Positive Rate or (Sensitivity)')\n",
    "    plt.title('ROC')\n",
    "    plt.legend(loc=\"lower right\")\n",
    "\n",
    "plot_roc_curve(y_test, proba)"
   ]
  },
  {
   "cell_type": "markdown",
   "metadata": {},
   "source": [
    "In a previous version of this project, I did not use the cast average and writer average as feature columns in the decision tree. The best accuracy score I was able to get then was only about 60%. By adding those in and tweaking the cutoffs used, I was able to predict with more than 85% accuracy, which isn't incredibly ideal, but still pretty good. We can see from the Confusion Matrix and ROC curve that this analysis performs relatively well. "
   ]
  },
  {
   "cell_type": "code",
   "execution_count": 92,
   "metadata": {
    "collapsed": false
   },
   "outputs": [
    {
     "data": {
      "text/html": [
       "<div style=\"max-height:1000px;max-width:1500px;overflow:auto;\">\n",
       "<table border=\"1\" class=\"dataframe\">\n",
       "  <thead>\n",
       "    <tr style=\"text-align: right;\">\n",
       "      <th></th>\n",
       "      <th>feature</th>\n",
       "      <th>importance</th>\n",
       "    </tr>\n",
       "  </thead>\n",
       "  <tbody>\n",
       "    <tr>\n",
       "      <th>0</th>\n",
       "      <td>         year</td>\n",
       "      <td> 0.000000</td>\n",
       "    </tr>\n",
       "    <tr>\n",
       "      <th>1</th>\n",
       "      <td>        genre</td>\n",
       "      <td> 0.000000</td>\n",
       "    </tr>\n",
       "    <tr>\n",
       "      <th>2</th>\n",
       "      <td>   age_rating</td>\n",
       "      <td> 0.000000</td>\n",
       "    </tr>\n",
       "    <tr>\n",
       "      <th>3</th>\n",
       "      <td> budget_2013$</td>\n",
       "      <td> 0.000000</td>\n",
       "    </tr>\n",
       "    <tr>\n",
       "      <th>4</th>\n",
       "      <td>  star_rating</td>\n",
       "      <td> 0.000000</td>\n",
       "    </tr>\n",
       "    <tr>\n",
       "      <th>5</th>\n",
       "      <td>     director</td>\n",
       "      <td> 0.000000</td>\n",
       "    </tr>\n",
       "    <tr>\n",
       "      <th>6</th>\n",
       "      <td>         cast</td>\n",
       "      <td> 0.094595</td>\n",
       "    </tr>\n",
       "    <tr>\n",
       "      <th>7</th>\n",
       "      <td>       writer</td>\n",
       "      <td> 0.905405</td>\n",
       "    </tr>\n",
       "  </tbody>\n",
       "</table>\n",
       "</div>"
      ],
      "text/plain": [
       "        feature  importance\n",
       "0          year    0.000000\n",
       "1         genre    0.000000\n",
       "2    age_rating    0.000000\n",
       "3  budget_2013$    0.000000\n",
       "4   star_rating    0.000000\n",
       "5      director    0.000000\n",
       "6          cast    0.094595\n",
       "7        writer    0.905405"
      ]
     },
     "execution_count": 92,
     "metadata": {},
     "output_type": "execute_result"
    }
   ],
   "source": [
    "pd.DataFrame({'feature':feature_cols, 'importance':treeclf.feature_importances_})"
   ]
  },
  {
   "cell_type": "markdown",
   "metadata": {},
   "source": [
    "Without the cast and writer feature columns, it seemed like genre, star_rating, budget, and director mattered most. Now however, it seems that the writer and cast feature columns are all that matter really. \n",
    "\n"
   ]
  },
  {
   "cell_type": "code",
   "execution_count": 27,
   "metadata": {
    "collapsed": false
   },
   "outputs": [],
   "source": [
    "from sklearn.tree import export_graphviz\n",
    "with open(\"bechdel.dot\", 'wb') as f:\n",
    "    f = export_graphviz(treeclf, out_file=f, feature_names=feature_cols)\n"
   ]
  },
  {
   "cell_type": "markdown",
   "metadata": {},
   "source": [
    "<img src=\"bechdel.png\">"
   ]
  },
  {
   "cell_type": "markdown",
   "metadata": {},
   "source": [
    "And thus the decision tree! Later I'll actually test the decision tree with some new movies"
   ]
  },
  {
   "cell_type": "markdown",
   "metadata": {},
   "source": [
    "#V: Testing Out Other Classifiers"
   ]
  },
  {
   "cell_type": "code",
   "execution_count": 55,
   "metadata": {
    "collapsed": false
   },
   "outputs": [
    {
     "name": "stdout",
     "output_type": "stream",
     "text": [
      "0.854729741233\n",
      "0.855278628986\n"
     ]
    }
   ],
   "source": [
    "from sklearn.cross_validation import cross_val_score\n",
    "from sklearn.ensemble import RandomForestClassifier, AdaBoostClassifier\n",
    "\n",
    "ran = RandomForestClassifier(max_depth=5, n_estimators=10, random_state=3)\n",
    "scores = cross_val_score(ran, X, y, cv=20, scoring='accuracy')\n",
    "print format(np.mean(scores))\n",
    "\n",
    "ada = AdaBoostClassifier(n_estimators=5, random_state=3)\n",
    "scores = cross_val_score(ada, X, y, cv=20, scoring='accuracy')\n",
    "print format(np.mean(scores))\n"
   ]
  },
  {
   "cell_type": "markdown",
   "metadata": {},
   "source": [
    "The highest that I was able to get the Random Forest and Ada Boost Classifiers was 85%, which is about just as good as the Decision Tree Classifier on its own."
   ]
  },
  {
   "cell_type": "code",
   "execution_count": 75,
   "metadata": {
    "collapsed": false
   },
   "outputs": [
    {
     "data": {
      "text/plain": [
       "0.55865921787709494"
      ]
     },
     "execution_count": 75,
     "metadata": {},
     "output_type": "execute_result"
    }
   ],
   "source": [
    "from sklearn.linear_model import LogisticRegression\n",
    "\n",
    "features_train, features_test, target_train, target_test = train_test_split(\n",
    "    X, y, test_size=0.10, random_state=3)\n",
    "\n",
    "lr = LogisticRegression()\n",
    "lr.fit(features_train, target_train)\n",
    "\n",
    "target_predicted = lr.predict(features_test)\n",
    "\n",
    "accuracy_score(target_test, target_predicted)"
   ]
  },
  {
   "cell_type": "markdown",
   "metadata": {},
   "source": [
    "The accuracy score of Logistic Regression fluctuates wildy when the random state is changed, so also not a super great result from Logistic Regression, seems like a plain old Decision Tree Classifier is best!"
   ]
  },
  {
   "cell_type": "markdown",
   "metadata": {
    "collapsed": true
   },
   "source": [
    "# VI: More Charts\n",
    "\n",
    "Now that I have more information, here are a few more charts that show some different and interesting things about the data. "
   ]
  },
  {
   "cell_type": "code",
   "execution_count": 31,
   "metadata": {
    "collapsed": false,
    "scrolled": false
   },
   "outputs": [
    {
     "data": {
      "text/plain": [
       "<matplotlib.text.Text at 0x10d9b8c10>"
      ]
     },
     "execution_count": 31,
     "metadata": {},
     "output_type": "execute_result"
    },
    {
     "data": {
      "image/png": "[encoded data removed]",
      "text/plain": [
       "<matplotlib.figure.Figure at 0x10d961fd0>"
      ]
     },
     "metadata": {},
     "output_type": "display_data"
    }
   ],
   "source": [
    "df = pd.read_csv(\"complete_movies.csv\")\n",
    "\n",
    "# making a chart for imdb star percentages for passing movies\n",
    "\n",
    "for i in range (len(df)):\n",
    "    thing = df.ix[i,8]\n",
    "    if not math.isnan(thing):\n",
    "        id = int(thing)\n",
    "        df.ix[i, 8] = id\n",
    "\n",
    "passing = df[df.binary == \"PASS\"]\n",
    "categories = [0,1,2,3,4,5,6,7,8,9]\n",
    "criterion_ps = []\n",
    "for category in categories:\n",
    "    criterion_ps.append(len(passing[passing.star_rating == category]))\n",
    "\n",
    "cats = [\"0 stars\", \"1 star\", \"2 stars\", \"3 stars\", \"4 stars\", \"5 stars\", \"6 stars\", \"7 stars\", \"8 stars\", \"9 stars\"]\n",
    "plt.bar(np.arange(10), criterion_ps, color='dodgerblue')\n",
    "plt.title('IMDB Star Rating Distribution for Passing Movies')"
   ]
  },
  {
   "cell_type": "markdown",
   "metadata": {},
   "source": [
    "You might think that more highly rated movies would be more likely to pass, but it might be the case that there are just very few 9 and 10 starred movies on IMDB."
   ]
  },
  {
   "cell_type": "code",
   "execution_count": 30,
   "metadata": {
    "collapsed": false,
    "scrolled": false
   },
   "outputs": [
    {
     "data": {
      "text/plain": [
       "<matplotlib.text.Text at 0x10b1c9850>"
      ]
     },
     "execution_count": 30,
     "metadata": {},
     "output_type": "execute_result"
    },
    {
     "data": {
      "image/png": "[encoded data removed]",
      "text/plain": [
       "<matplotlib.figure.Figure at 0x10b183990>"
      ]
     },
     "metadata": {},
     "output_type": "display_data"
    }
   ],
   "source": [
    "# making a chart for imdb star_ratings for general movies surveyed\n",
    "\n",
    "categories = [0,1,2,3,4,5,6,7,8,9]\n",
    "criterion_ps = []\n",
    "for category in categories:\n",
    "    criterion_ps.append(len(df[df.star_rating == category]))\n",
    "\n",
    "plt.bar(np.arange(10), criterion_ps, color='mediumturquoise')\n",
    "plt.title('IMDB Star Rating Distribution for All Movies Surveyed')"
   ]
  },
  {
   "cell_type": "markdown",
   "metadata": {},
   "source": [
    "As you can see, the distribution is pretty similar, so as we thought, there are just very few 9 and 10 starred IMDB movies, so 6 and 7 are considered fairly high star ratings."
   ]
  },
  {
   "cell_type": "code",
   "execution_count": 33,
   "metadata": {
    "collapsed": false
   },
   "outputs": [
    {
     "name": "stdout",
     "output_type": "stream",
     "text": [
      "The movie with the highest writers score was The Matrix\n",
      "Andy Wachowski has 0.86 movie passes out of 7 movies\n",
      " Lana Wachowski has 0.82 movie passes out of 11 movies\n",
      "Also the movie's binary score was 1\n"
     ]
    }
   ],
   "source": [
    "df_2 = pd.read_csv(\"complete_movies_2.csv\")\n",
    "\n",
    "# The writers with the highest writer score in the dataframe\n",
    "\n",
    "top_writers = writer_array[df_2.writer.argmax()]\n",
    "print \"The movie with the highest writers score was %s\" % (df_2.title[df_2.writer.argmax()])\n",
    "for person in top_writers:\n",
    "    print \"%s has %.2f movie passes out of %s movies\" % (person , writer_percents[person], len(writer_pass_dict[person]))\n",
    "\n",
    "print \"Also the movie's binary score was %s\" % (df_2.binary[df_2.writer.argmax()])"
   ]
  },
  {
   "cell_type": "code",
   "execution_count": 34,
   "metadata": {
    "collapsed": false,
    "scrolled": true
   },
   "outputs": [
    {
     "data": {
      "text/html": [
       "<div style=\"max-height:1000px;max-width:1500px;overflow:auto;\">\n",
       "<table border=\"1\" class=\"dataframe\">\n",
       "  <thead>\n",
       "    <tr style=\"text-align: right;\">\n",
       "      <th></th>\n",
       "      <th>title</th>\n",
       "      <th>binary</th>\n",
       "      <th>writer</th>\n",
       "      <th>Writers score &gt; 0.8?</th>\n",
       "    </tr>\n",
       "  </thead>\n",
       "  <tbody>\n",
       "    <tr>\n",
       "      <th>0   </th>\n",
       "      <td>                           21 &amp;amp; Over</td>\n",
       "      <td> 0</td>\n",
       "      <td> 0.000000</td>\n",
       "      <td> False</td>\n",
       "    </tr>\n",
       "    <tr>\n",
       "      <th>1   </th>\n",
       "      <td>                                Dredd 3D</td>\n",
       "      <td> 1</td>\n",
       "      <td> 1.333333</td>\n",
       "      <td>  True</td>\n",
       "    </tr>\n",
       "    <tr>\n",
       "      <th>2   </th>\n",
       "      <td>                        12 Years a Slave</td>\n",
       "      <td> 0</td>\n",
       "      <td> 0.000000</td>\n",
       "      <td> False</td>\n",
       "    </tr>\n",
       "    <tr>\n",
       "      <th>3   </th>\n",
       "      <td>                                  2 Guns</td>\n",
       "      <td> 0</td>\n",
       "      <td> 0.000000</td>\n",
       "      <td> False</td>\n",
       "    </tr>\n",
       "    <tr>\n",
       "      <th>4   </th>\n",
       "      <td>                                      42</td>\n",
       "      <td> 0</td>\n",
       "      <td> 0.000000</td>\n",
       "      <td> False</td>\n",
       "    </tr>\n",
       "    <tr>\n",
       "      <th>5   </th>\n",
       "      <td>                                47 Ronin</td>\n",
       "      <td> 0</td>\n",
       "      <td> 0.750000</td>\n",
       "      <td> False</td>\n",
       "    </tr>\n",
       "    <tr>\n",
       "      <th>6   </th>\n",
       "      <td>                  A Good Day to Die Hard</td>\n",
       "      <td> 0</td>\n",
       "      <td> 0.000000</td>\n",
       "      <td> False</td>\n",
       "    </tr>\n",
       "    <tr>\n",
       "      <th>7   </th>\n",
       "      <td>                              About Time</td>\n",
       "      <td> 1</td>\n",
       "      <td> 3.000000</td>\n",
       "      <td>  True</td>\n",
       "    </tr>\n",
       "    <tr>\n",
       "      <th>8   </th>\n",
       "      <td>                               Admission</td>\n",
       "      <td> 1</td>\n",
       "      <td> 1.000000</td>\n",
       "      <td>  True</td>\n",
       "    </tr>\n",
       "    <tr>\n",
       "      <th>9   </th>\n",
       "      <td>                             After Earth</td>\n",
       "      <td> 0</td>\n",
       "      <td> 0.000000</td>\n",
       "      <td> False</td>\n",
       "    </tr>\n",
       "    <tr>\n",
       "      <th>10  </th>\n",
       "      <td>                         American Hustle</td>\n",
       "      <td> 1</td>\n",
       "      <td> 1.000000</td>\n",
       "      <td>  True</td>\n",
       "    </tr>\n",
       "    <tr>\n",
       "      <th>11  </th>\n",
       "      <td>                    August: Osage County</td>\n",
       "      <td> 1</td>\n",
       "      <td> 2.000000</td>\n",
       "      <td>  True</td>\n",
       "    </tr>\n",
       "    <tr>\n",
       "      <th>12  </th>\n",
       "      <td>                     Beautiful Creatures</td>\n",
       "      <td> 1</td>\n",
       "      <td> 1.333333</td>\n",
       "      <td>  True</td>\n",
       "    </tr>\n",
       "    <tr>\n",
       "      <th>13  </th>\n",
       "      <td>                            Blue Jasmine</td>\n",
       "      <td> 1</td>\n",
       "      <td> 5.000000</td>\n",
       "      <td>  True</td>\n",
       "    </tr>\n",
       "    <tr>\n",
       "      <th>14  </th>\n",
       "      <td>                        Captain Phillips</td>\n",
       "      <td> 0</td>\n",
       "      <td> 0.000000</td>\n",
       "      <td> False</td>\n",
       "    </tr>\n",
       "    <tr>\n",
       "      <th>15  </th>\n",
       "      <td>                                  Carrie</td>\n",
       "      <td> 1</td>\n",
       "      <td> 1.333333</td>\n",
       "      <td>  True</td>\n",
       "    </tr>\n",
       "    <tr>\n",
       "      <th>16  </th>\n",
       "      <td>     Cloudy with a Chance of Meatballs 2</td>\n",
       "      <td> 0</td>\n",
       "      <td> 0.250000</td>\n",
       "      <td> False</td>\n",
       "    </tr>\n",
       "    <tr>\n",
       "      <th>17  </th>\n",
       "      <td>                         Despicable Me 2</td>\n",
       "      <td> 1</td>\n",
       "      <td> 2.000000</td>\n",
       "      <td>  True</td>\n",
       "    </tr>\n",
       "    <tr>\n",
       "      <th>18  </th>\n",
       "      <td>                                 Don Jon</td>\n",
       "      <td> 0</td>\n",
       "      <td> 0.000000</td>\n",
       "      <td> False</td>\n",
       "    </tr>\n",
       "    <tr>\n",
       "      <th>19  </th>\n",
       "      <td>                                 Elysium</td>\n",
       "      <td> 1</td>\n",
       "      <td> 1.000000</td>\n",
       "      <td>  True</td>\n",
       "    </tr>\n",
       "    <tr>\n",
       "      <th>20  </th>\n",
       "      <td>                        Ender&amp;#39;s Game</td>\n",
       "      <td> 0</td>\n",
       "      <td> 0.000000</td>\n",
       "      <td> False</td>\n",
       "    </tr>\n",
       "    <tr>\n",
       "      <th>21  </th>\n",
       "      <td>                                    Epic</td>\n",
       "      <td> 1</td>\n",
       "      <td> 1.888889</td>\n",
       "      <td>  True</td>\n",
       "    </tr>\n",
       "    <tr>\n",
       "      <th>22  </th>\n",
       "      <td>                Escape from Planet Earth</td>\n",
       "      <td> 1</td>\n",
       "      <td> 1.400000</td>\n",
       "      <td>  True</td>\n",
       "    </tr>\n",
       "    <tr>\n",
       "      <th>23  </th>\n",
       "      <td>                             Escape Plan</td>\n",
       "      <td> 0</td>\n",
       "      <td> 0.000000</td>\n",
       "      <td> False</td>\n",
       "    </tr>\n",
       "    <tr>\n",
       "      <th>24  </th>\n",
       "      <td>                               Evil Dead</td>\n",
       "      <td> 1</td>\n",
       "      <td> 1.000000</td>\n",
       "      <td>  True</td>\n",
       "    </tr>\n",
       "    <tr>\n",
       "      <th>25  </th>\n",
       "      <td>                      Fast and Furious 6</td>\n",
       "      <td> 1</td>\n",
       "      <td> 2.000000</td>\n",
       "      <td>  True</td>\n",
       "    </tr>\n",
       "    <tr>\n",
       "      <th>26  </th>\n",
       "      <td>                                  Frozen</td>\n",
       "      <td> 1</td>\n",
       "      <td> 1.666667</td>\n",
       "      <td>  True</td>\n",
       "    </tr>\n",
       "    <tr>\n",
       "      <th>27  </th>\n",
       "      <td>                   G.I. Joe: Retaliation</td>\n",
       "      <td> 1</td>\n",
       "      <td> 2.000000</td>\n",
       "      <td>  True</td>\n",
       "    </tr>\n",
       "    <tr>\n",
       "      <th>28  </th>\n",
       "      <td>                          Gangster Squad</td>\n",
       "      <td> 0</td>\n",
       "      <td> 0.000000</td>\n",
       "      <td> False</td>\n",
       "    </tr>\n",
       "    <tr>\n",
       "      <th>29  </th>\n",
       "      <td>                                  Gloria</td>\n",
       "      <td> 1</td>\n",
       "      <td> 1.000000</td>\n",
       "      <td>  True</td>\n",
       "    </tr>\n",
       "    <tr>\n",
       "      <th>...</th>\n",
       "      <td>...</td>\n",
       "      <td>...</td>\n",
       "      <td>...</td>\n",
       "      <td>...</td>\n",
       "    </tr>\n",
       "    <tr>\n",
       "      <th>1760</th>\n",
       "      <td>                                   Rocky</td>\n",
       "      <td> 0</td>\n",
       "      <td> 0.000000</td>\n",
       "      <td> False</td>\n",
       "    </tr>\n",
       "    <tr>\n",
       "      <th>1761</th>\n",
       "      <td>                            Silent Movie</td>\n",
       "      <td> 0</td>\n",
       "      <td> 0.000000</td>\n",
       "      <td> False</td>\n",
       "    </tr>\n",
       "    <tr>\n",
       "      <th>1762</th>\n",
       "      <td>                                 Sparkle</td>\n",
       "      <td> 1</td>\n",
       "      <td> 1.500000</td>\n",
       "      <td>  True</td>\n",
       "    </tr>\n",
       "    <tr>\n",
       "      <th>1763</th>\n",
       "      <td>                             Taxi Driver</td>\n",
       "      <td> 0</td>\n",
       "      <td> 0.000000</td>\n",
       "      <td> False</td>\n",
       "    </tr>\n",
       "    <tr>\n",
       "      <th>1764</th>\n",
       "      <td>                            Barry Lyndon</td>\n",
       "      <td> 0</td>\n",
       "      <td> 0.500000</td>\n",
       "      <td> False</td>\n",
       "    </tr>\n",
       "    <tr>\n",
       "      <th>1765</th>\n",
       "      <td>                                    Jaws</td>\n",
       "      <td> 0</td>\n",
       "      <td> 0.000000</td>\n",
       "      <td> False</td>\n",
       "    </tr>\n",
       "    <tr>\n",
       "      <th>1766</th>\n",
       "      <td>         Monty Python and the Holy Grail</td>\n",
       "      <td> 0</td>\n",
       "      <td> 0.000000</td>\n",
       "      <td> False</td>\n",
       "    </tr>\n",
       "    <tr>\n",
       "      <th>1767</th>\n",
       "      <td>     One Flew Over the Cuckoo&amp;#39;s Nest</td>\n",
       "      <td> 0</td>\n",
       "      <td> 0.000000</td>\n",
       "      <td> False</td>\n",
       "    </tr>\n",
       "    <tr>\n",
       "      <th>1768</th>\n",
       "      <td>           The Rocky Horror Picture Show</td>\n",
       "      <td> 0</td>\n",
       "      <td> 0.000000</td>\n",
       "      <td> False</td>\n",
       "    </tr>\n",
       "    <tr>\n",
       "      <th>1769</th>\n",
       "      <td>                         Black Christmas</td>\n",
       "      <td> 1</td>\n",
       "      <td> 1.000000</td>\n",
       "      <td>  True</td>\n",
       "    </tr>\n",
       "    <tr>\n",
       "      <th>1770</th>\n",
       "      <td>                         Blazing Saddles</td>\n",
       "      <td> 0</td>\n",
       "      <td> 0.000000</td>\n",
       "      <td> False</td>\n",
       "    </tr>\n",
       "    <tr>\n",
       "      <th>1771</th>\n",
       "      <td>                        The Conversation</td>\n",
       "      <td> 0</td>\n",
       "      <td> 1.000000</td>\n",
       "      <td>  True</td>\n",
       "    </tr>\n",
       "    <tr>\n",
       "      <th>1772</th>\n",
       "      <td>                  The Godfather: Part II</td>\n",
       "      <td> 1</td>\n",
       "      <td> 1.666667</td>\n",
       "      <td>  True</td>\n",
       "    </tr>\n",
       "    <tr>\n",
       "      <th>1773</th>\n",
       "      <td>            The Texas Chain Saw Massacre</td>\n",
       "      <td> 0</td>\n",
       "      <td> 0.000000</td>\n",
       "      <td> False</td>\n",
       "    </tr>\n",
       "    <tr>\n",
       "      <th>1774</th>\n",
       "      <td>                    The Towering Inferno</td>\n",
       "      <td> 0</td>\n",
       "      <td> 0.000000</td>\n",
       "      <td> False</td>\n",
       "    </tr>\n",
       "    <tr>\n",
       "      <th>1775</th>\n",
       "      <td>                      Young Frankenstein</td>\n",
       "      <td> 0</td>\n",
       "      <td> 0.000000</td>\n",
       "      <td> False</td>\n",
       "    </tr>\n",
       "    <tr>\n",
       "      <th>1776</th>\n",
       "      <td>                       American Graffiti</td>\n",
       "      <td> 0</td>\n",
       "      <td> 0.333333</td>\n",
       "      <td> False</td>\n",
       "    </tr>\n",
       "    <tr>\n",
       "      <th>1777</th>\n",
       "      <td>                     High Plains Drifter</td>\n",
       "      <td> 0</td>\n",
       "      <td> 0.000000</td>\n",
       "      <td> False</td>\n",
       "    </tr>\n",
       "    <tr>\n",
       "      <th>1778</th>\n",
       "      <td>                                 Sleeper</td>\n",
       "      <td> 0</td>\n",
       "      <td> 3.000000</td>\n",
       "      <td>  True</td>\n",
       "    </tr>\n",
       "    <tr>\n",
       "      <th>1779</th>\n",
       "      <td>                            The Exorcist</td>\n",
       "      <td> 1</td>\n",
       "      <td> 0.000000</td>\n",
       "      <td> False</td>\n",
       "    </tr>\n",
       "    <tr>\n",
       "      <th>1780</th>\n",
       "      <td>                               The Sting</td>\n",
       "      <td> 0</td>\n",
       "      <td> 0.000000</td>\n",
       "      <td> False</td>\n",
       "    </tr>\n",
       "    <tr>\n",
       "      <th>1781</th>\n",
       "      <td>                                    1776</td>\n",
       "      <td> 0</td>\n",
       "      <td> 0.000000</td>\n",
       "      <td> False</td>\n",
       "    </tr>\n",
       "    <tr>\n",
       "      <th>1782</th>\n",
       "      <td>                          Pink Flamingos</td>\n",
       "      <td> 1</td>\n",
       "      <td> 2.000000</td>\n",
       "      <td>  True</td>\n",
       "    </tr>\n",
       "    <tr>\n",
       "      <th>1783</th>\n",
       "      <td>                           The Godfather</td>\n",
       "      <td> 0</td>\n",
       "      <td> 0.666667</td>\n",
       "      <td> False</td>\n",
       "    </tr>\n",
       "    <tr>\n",
       "      <th>1784</th>\n",
       "      <td>      Escape from the Planet of the Apes</td>\n",
       "      <td> 0</td>\n",
       "      <td> 0.000000</td>\n",
       "      <td> False</td>\n",
       "    </tr>\n",
       "    <tr>\n",
       "      <th>1785</th>\n",
       "      <td>                                   Shaft</td>\n",
       "      <td> 0</td>\n",
       "      <td> 0.000000</td>\n",
       "      <td> False</td>\n",
       "    </tr>\n",
       "    <tr>\n",
       "      <th>1786</th>\n",
       "      <td>                              Straw Dogs</td>\n",
       "      <td> 0</td>\n",
       "      <td> 0.666667</td>\n",
       "      <td> False</td>\n",
       "    </tr>\n",
       "    <tr>\n",
       "      <th>1787</th>\n",
       "      <td>                   The French Connection</td>\n",
       "      <td> 0</td>\n",
       "      <td> 0.000000</td>\n",
       "      <td> False</td>\n",
       "    </tr>\n",
       "    <tr>\n",
       "      <th>1788</th>\n",
       "      <td> Willy Wonka &amp;amp; the Chocolate Factory</td>\n",
       "      <td> 0</td>\n",
       "      <td> 0.333333</td>\n",
       "      <td> False</td>\n",
       "    </tr>\n",
       "    <tr>\n",
       "      <th>1789</th>\n",
       "      <td>          Beyond the Valley of the Dolls</td>\n",
       "      <td> 1</td>\n",
       "      <td> 0.000000</td>\n",
       "      <td> False</td>\n",
       "    </tr>\n",
       "  </tbody>\n",
       "</table>\n",
       "<p>1790 rows × 4 columns</p>\n",
       "</div>"
      ],
      "text/plain": [
       "                                        title  binary    writer  \\\n",
       "0                               21 &amp; Over       0  0.000000   \n",
       "1                                    Dredd 3D       1  1.333333   \n",
       "2                            12 Years a Slave       0  0.000000   \n",
       "3                                      2 Guns       0  0.000000   \n",
       "4                                          42       0  0.000000   \n",
       "5                                    47 Ronin       0  0.750000   \n",
       "6                      A Good Day to Die Hard       0  0.000000   \n",
       "7                                  About Time       1  3.000000   \n",
       "8                                   Admission       1  1.000000   \n",
       "9                                 After Earth       0  0.000000   \n",
       "10                            American Hustle       1  1.000000   \n",
       "11                       August: Osage County       1  2.000000   \n",
       "12                        Beautiful Creatures       1  1.333333   \n",
       "13                               Blue Jasmine       1  5.000000   \n",
       "14                           Captain Phillips       0  0.000000   \n",
       "15                                     Carrie       1  1.333333   \n",
       "16        Cloudy with a Chance of Meatballs 2       0  0.250000   \n",
       "17                            Despicable Me 2       1  2.000000   \n",
       "18                                    Don Jon       0  0.000000   \n",
       "19                                    Elysium       1  1.000000   \n",
       "20                           Ender&#39;s Game       0  0.000000   \n",
       "21                                       Epic       1  1.888889   \n",
       "22                   Escape from Planet Earth       1  1.400000   \n",
       "23                                Escape Plan       0  0.000000   \n",
       "24                                  Evil Dead       1  1.000000   \n",
       "25                         Fast and Furious 6       1  2.000000   \n",
       "26                                     Frozen       1  1.666667   \n",
       "27                      G.I. Joe: Retaliation       1  2.000000   \n",
       "28                             Gangster Squad       0  0.000000   \n",
       "29                                     Gloria       1  1.000000   \n",
       "...                                       ...     ...       ...   \n",
       "1760                                    Rocky       0  0.000000   \n",
       "1761                             Silent Movie       0  0.000000   \n",
       "1762                                  Sparkle       1  1.500000   \n",
       "1763                              Taxi Driver       0  0.000000   \n",
       "1764                             Barry Lyndon       0  0.500000   \n",
       "1765                                     Jaws       0  0.000000   \n",
       "1766          Monty Python and the Holy Grail       0  0.000000   \n",
       "1767      One Flew Over the Cuckoo&#39;s Nest       0  0.000000   \n",
       "1768            The Rocky Horror Picture Show       0  0.000000   \n",
       "1769                          Black Christmas       1  1.000000   \n",
       "1770                          Blazing Saddles       0  0.000000   \n",
       "1771                         The Conversation       0  1.000000   \n",
       "1772                   The Godfather: Part II       1  1.666667   \n",
       "1773             The Texas Chain Saw Massacre       0  0.000000   \n",
       "1774                     The Towering Inferno       0  0.000000   \n",
       "1775                       Young Frankenstein       0  0.000000   \n",
       "1776                        American Graffiti       0  0.333333   \n",
       "1777                      High Plains Drifter       0  0.000000   \n",
       "1778                                  Sleeper       0  3.000000   \n",
       "1779                             The Exorcist       1  0.000000   \n",
       "1780                                The Sting       0  0.000000   \n",
       "1781                                     1776       0  0.000000   \n",
       "1782                           Pink Flamingos       1  2.000000   \n",
       "1783                            The Godfather       0  0.666667   \n",
       "1784       Escape from the Planet of the Apes       0  0.000000   \n",
       "1785                                    Shaft       0  0.000000   \n",
       "1786                               Straw Dogs       0  0.666667   \n",
       "1787                    The French Connection       0  0.000000   \n",
       "1788  Willy Wonka &amp; the Chocolate Factory       0  0.333333   \n",
       "1789           Beyond the Valley of the Dolls       1  0.000000   \n",
       "\n",
       "     Writers score > 0.8?  \n",
       "0                   False  \n",
       "1                    True  \n",
       "2                   False  \n",
       "3                   False  \n",
       "4                   False  \n",
       "5                   False  \n",
       "6                   False  \n",
       "7                    True  \n",
       "8                    True  \n",
       "9                   False  \n",
       "10                   True  \n",
       "11                   True  \n",
       "12                   True  \n",
       "13                   True  \n",
       "14                  False  \n",
       "15                   True  \n",
       "16                  False  \n",
       "17                   True  \n",
       "18                  False  \n",
       "19                   True  \n",
       "20                  False  \n",
       "21                   True  \n",
       "22                   True  \n",
       "23                  False  \n",
       "24                   True  \n",
       "25                   True  \n",
       "26                   True  \n",
       "27                   True  \n",
       "28                  False  \n",
       "29                   True  \n",
       "...                   ...  \n",
       "1760                False  \n",
       "1761                False  \n",
       "1762                 True  \n",
       "1763                False  \n",
       "1764                False  \n",
       "1765                False  \n",
       "1766                False  \n",
       "1767                False  \n",
       "1768                False  \n",
       "1769                 True  \n",
       "1770                False  \n",
       "1771                 True  \n",
       "1772                 True  \n",
       "1773                False  \n",
       "1774                False  \n",
       "1775                False  \n",
       "1776                False  \n",
       "1777                False  \n",
       "1778                 True  \n",
       "1779                False  \n",
       "1780                False  \n",
       "1781                False  \n",
       "1782                 True  \n",
       "1783                False  \n",
       "1784                False  \n",
       "1785                False  \n",
       "1786                False  \n",
       "1787                False  \n",
       "1788                False  \n",
       "1789                False  \n",
       "\n",
       "[1790 rows x 4 columns]"
      ]
     },
     "execution_count": 34,
     "metadata": {},
     "output_type": "execute_result"
    }
   ],
   "source": [
    "#just a chart to show how writers score and binary correlate\n",
    "\n",
    "df_3 = df_2.drop(['Unnamed: 0','year','imdb','clean_test','genre','age_rating','budget_2013$','star_rating','director', 'cast'], axis = 1)\n",
    "\n",
    "for i in range (len(df_3)):\n",
    "    df_3.ix[i, 'Writers score > 0.8?'] = (df_3.ix[i,2] > 0.8)\n",
    "df_3"
   ]
  },
  {
   "cell_type": "code",
   "execution_count": 35,
   "metadata": {
    "collapsed": false
   },
   "outputs": [
    {
     "data": {
      "text/plain": [
       "<matplotlib.text.Text at 0x10dac8bd0>"
      ]
     },
     "execution_count": 35,
     "metadata": {},
     "output_type": "execute_result"
    },
    {
     "data": {
      "image/png": "[encoded data removed]",
      "text/plain": [
       "<matplotlib.figure.Figure at 0x107b52550>"
      ]
     },
     "metadata": {},
     "output_type": "display_data"
    }
   ],
   "source": [
    "# making a chart for writer score distribution\n",
    "plt.plot(df_3.writer, df_3.binary, 'cx')\n",
    "plt.axis([0, 8, -.5, 1.5])\n",
    "plt.title('Writer Average vs. Binary Score (0 = pass, 1 = fail)')"
   ]
  },
  {
   "cell_type": "code",
   "execution_count": 36,
   "metadata": {
    "collapsed": false
   },
   "outputs": [
    {
     "data": {
      "text/plain": [
       "<matplotlib.text.Text at 0x10e8a8e10>"
      ]
     },
     "execution_count": 36,
     "metadata": {},
     "output_type": "execute_result"
    },
    {
     "data": {
      "image/png": "[encoded data removed]",
      "text/plain": [
       "<matplotlib.figure.Figure at 0x10e852790>"
      ]
     },
     "metadata": {},
     "output_type": "display_data"
    }
   ],
   "source": [
    "# making a chart for cast score distribution\n",
    "plt.plot(df_2.cast, df_2.binary, 'bx')\n",
    "plt.axis([0, 6, -.5, 1.5])\n",
    "plt.title('Cast Average vs. Binary Score (0 = fail, 1 = pass)')"
   ]
  },
  {
   "cell_type": "markdown",
   "metadata": {
    "collapsed": true
   },
   "source": [
    "Looking at the second plot here, there are a lot of movies in the 1-2.5 range that fall in the pass category as well as the fail category. This overlap is a lot smaller in the first plot. From this we can tell that writer average is a lot more telling of whether or not a movie will pass than cast average."
   ]
  },
  {
   "cell_type": "markdown",
   "metadata": {},
   "source": [
    "#VII: Testing the Data with New Movies"
   ]
  },
  {
   "cell_type": "markdown",
   "metadata": {
    "collapsed": true
   },
   "source": [
    "Let's assess a few more recent movies. \n",
    "\n",
    "Avengers: Age of Ultron- Pass? Yes\n",
    "\n",
    "Interstellar- Pass? Yes\n",
    "\n",
    "Dawn of the Planet of the Apes- Pass? No\n",
    "\n",
    "Edge of Tomorrow- Pass? No\n",
    "\n"
   ]
  },
  {
   "cell_type": "code",
   "execution_count": 257,
   "metadata": {
    "collapsed": false
   },
   "outputs": [],
   "source": [
    "Avengers_writers = ['Joss Whedon', 'Stan Lee']\n",
    "Avengers_cast = ['Robert Downey Jr.', 'Chris Hemsworth', 'Mark Ruffalo', 'Chris Evans', 'Scarlett Johansson']\n",
    "\n",
    "Interstellar_writers = ['Jonathan Nolan', 'Christopher Nolan']\n",
    "Interstellar_cast = ['Matthew McConaughey', 'Anne Hathaway', 'Jessica Chastain']\n",
    "\n",
    "Apes_writers = ['Mark Bomback']\n",
    "Apes_cast = ['Andy Serkis', 'Jason Clarke', 'Gary Oldman']\n",
    "\n",
    "Edge_writers = ['Christopher McQuarrie','Jez Butterworth' ]\n",
    "Edge_cast = ['Tom Cruise', 'Emily Blunt', 'Bill Paxton']"
   ]
  },
  {
   "cell_type": "markdown",
   "metadata": {},
   "source": [
    "Let's see how well just the writer's information does at predicting the pass or fail of the movie"
   ]
  },
  {
   "cell_type": "code",
   "execution_count": 260,
   "metadata": {
    "collapsed": false
   },
   "outputs": [
    {
     "name": "stdout",
     "output_type": "stream",
     "text": [
      "Avenger writer score: 1.0\n",
      "Interstellar writer score: 0.0\n",
      "Apes writer score: 1.0\n",
      "Edge writer score: 0.5\n"
     ]
    }
   ],
   "source": [
    "def test_writer(writers):\n",
    "    write_sum = 0\n",
    "    write_count = 0\n",
    "    for writer in writers:\n",
    "        write_sum += writer_percents[writer]*(len(writer_pass_dict[writer]))\n",
    "        write_count += 1\n",
    "    return write_sum/write_count \n",
    "\n",
    "print \"Avenger writer score: %s\" % (test_writer(Avengers_writers))\n",
    "print \"Interstellar writer score: %s\" % (test_writer(Interstellar_writers))\n",
    "print \"Apes writer score: %s\" % (test_writer(Apes_writers))\n",
    "print \"Edge writer score: %s\" % (test_writer(Edge_writers))"
   ]
  },
  {
   "cell_type": "markdown",
   "metadata": {},
   "source": [
    "So we got 2 of 4 correct based just on writers (judging by the 0.8 cutoff), now lets try cast."
   ]
  },
  {
   "cell_type": "code",
   "execution_count": 263,
   "metadata": {
    "collapsed": false
   },
   "outputs": [
    {
     "name": "stdout",
     "output_type": "stream",
     "text": [
      "Avenger cast score: 0.5\n",
      "Interstellar cast score: 1.66666666667\n",
      "Apes cast score: 0.5\n",
      "Edge cast score: 1.0\n"
     ]
    }
   ],
   "source": [
    "def test_cast(cast):\n",
    "    cast_sum = 0\n",
    "    cast_count = 0\n",
    "    for actor in cast:\n",
    "        if actor in actor_pass_dict:\n",
    "            cast_sum += actor_percents[actor]*(len(actor_pass_dict[actor]))\n",
    "            cast_count += 1\n",
    "    return cast_sum/cast_count \n",
    "\n",
    "print \"Avenger cast score: %s\" % (test_cast(Avengers_cast))\n",
    "print \"Interstellar cast score: %s\" % (test_cast(Interstellar_cast))\n",
    "print \"Apes cast score: %s\" % (test_cast(Apes_cast))\n",
    "print \"Edge cast score: %s\" % (test_cast(Edge_cast))"
   ]
  },
  {
   "cell_type": "markdown",
   "metadata": {},
   "source": [
    "From this information, we could say Avengers passes, Interstellar passes, Apes passes, and Edge passes. So we have 2/4 again. The trouble here is also that not every actor or writer is in the database we have, so we don't have the best of data to work from."
   ]
  },
  {
   "cell_type": "markdown",
   "metadata": {},
   "source": [
    "#VIII: Takeaways\n",
    "\n"
   ]
  },
  {
   "cell_type": "markdown",
   "metadata": {
    "collapsed": true
   },
   "source": [
    "###Struggles\n",
    "\n",
    "Deciding how to acquire the additional data was somewhat tricky. I wanted to get it in a timely manner and in a format that was easy to process. In the end I settled on something that took a bit longer but gave me a nice format. \n",
    "\n",
    "Then came the struggle of storing that data. I had to work quickly because the data took a long time to get, and not all of it was able to be entered as is into the dataframe (so it wasn't as nicely formatted as I originally thought). Things got sort of sticky, but with a little cleanup later they turned out pretty well. \n",
    "\n",
    "Originally, I was just going to use the Cast and Writer data in chart form to show some interesting things. I'm really glad that I was able to use them as a meaningful features in the Decision Tree Classifier. They ended up being most important!\n",
    "\n",
    "The last tricky part was getting the cutoffs right for the Cast and Writer average cutoffs. I did a lot of guessing and checking, and eventually landed on the numbers I used, which generated the highest accuracy. "
   ]
  },
  {
   "cell_type": "markdown",
   "metadata": {},
   "source": [
    "###Favorite Bits\n",
    "\n",
    "I really enjoyed seeing what turned out to be the most important features in the Decision Tree. It was a pleasant surprise to see that it was the extra features I decided to add in last. \n",
    "\n",
    "Tweaking little things to get the highest accuracy score I could was tricky, but also satisfying when I got everything just right.\n",
    "\n",
    "Even though the Decision Tree was not super effective at predicting the verdict of new movies, it was cool to test it out."
   ]
  },
  {
   "cell_type": "markdown",
   "metadata": {},
   "source": [
    "###What I Learned\n",
    "\n",
    "It is very easy to accidentally skew your data. At first I only had the genre data for passing movies, and obviously that skewed the genre feature to be most important, and generated a Decision Tree that would be near worthless at predicting the verdict of new movies. \n",
    "\n",
    "Just making different data formats play nicely together was a large part of the struggle for me. I imagine that causes a lot of little problems you might not even immediately realize when analyzing data. \n",
    "\n",
    "Analyzing data is really interesting, and quite rewarding in the end :)"
   ]
  },
  {
   "cell_type": "code",
   "execution_count": null,
   "metadata": {
    "collapsed": true
   },
   "outputs": [],
   "source": []
  }
 ],
 "metadata": {
  "kernelspec": {
   "display_name": "Python 2",
   "language": "python",
   "name": "python2"
  },
  "language_info": {
   "codemirror_mode": {
    "name": "ipython",
    "version": 2
   },
   "file_extension": ".py",
   "mimetype": "text/x-python",
   "name": "python",
   "nbconvert_exporter": "python",
   "pygments_lexer": "ipython2",
   "version": "2.7.9"
  }
 },
 "nbformat": 4,
 "nbformat_minor": 0
}
