{
 "cells": [
  {
   "cell_type": "code",
   "execution_count": 1,
   "metadata": {
    "collapsed": false
   },
   "outputs": [],
   "source": [
    "import numpy as np\n",
    "import pandas as pd\n",
    "import matplotlib.pyplot as plt\n",
    "from imdb import IMDb\n",
    "%matplotlib inline\n",
    "\n",
    "im = IMDb()\n",
    "\n",
    "df = pd.read_csv(\"bechdel_data_min.csv\")\n"
   ]
  },
  {
   "cell_type": "code",
   "execution_count": 5,
   "metadata": {
    "collapsed": false
   },
   "outputs": [
    {
     "name": "stdout",
     "output_type": "stream",
     "text": [
      "tt0453562\n"
     ]
    },
    {
     "data": {
      "text/html": [
       "<div style=\"max-height:1000px;max-width:1500px;overflow:auto;\">\n",
       "<table border=\"1\" class=\"dataframe\">\n",
       "  <thead>\n",
       "    <tr style=\"text-align: right;\">\n",
       "      <th></th>\n",
       "      <th>year</th>\n",
       "      <th>imdb</th>\n",
       "      <th>title</th>\n",
       "      <th>clean_test</th>\n",
       "      <th>binary</th>\n",
       "      <th>genre</th>\n",
       "      <th>age_rating</th>\n",
       "      <th>budget_2013$</th>\n",
       "      <th>star_rating</th>\n",
       "      <th>creator</th>\n",
       "      <th>director</th>\n",
       "      <th>cast</th>\n",
       "      <th>writer</th>\n",
       "    </tr>\n",
       "  </thead>\n",
       "  <tbody>\n",
       "    <tr>\n",
       "      <th>0</th>\n",
       "      <td> 2013</td>\n",
       "      <td> tt1711425</td>\n",
       "      <td>    21 &amp;amp; Over</td>\n",
       "      <td> notalk</td>\n",
       "      <td> FAIL</td>\n",
       "      <td> comedy</td>\n",
       "      <td>    R</td>\n",
       "      <td> 13000000</td>\n",
       "      <td> NaN</td>\n",
       "      <td>NaN</td>\n",
       "      <td>NaN</td>\n",
       "      <td>NaN</td>\n",
       "      <td>NaN</td>\n",
       "    </tr>\n",
       "    <tr>\n",
       "      <th>1</th>\n",
       "      <td> 2012</td>\n",
       "      <td> tt1343727</td>\n",
       "      <td>         Dredd 3D</td>\n",
       "      <td>     ok</td>\n",
       "      <td> PASS</td>\n",
       "      <td>  scifi</td>\n",
       "      <td>    R</td>\n",
       "      <td> 45658735</td>\n",
       "      <td> NaN</td>\n",
       "      <td>NaN</td>\n",
       "      <td>NaN</td>\n",
       "      <td>NaN</td>\n",
       "      <td>NaN</td>\n",
       "    </tr>\n",
       "    <tr>\n",
       "      <th>2</th>\n",
       "      <td> 2013</td>\n",
       "      <td> tt2024544</td>\n",
       "      <td> 12 Years a Slave</td>\n",
       "      <td> notalk</td>\n",
       "      <td> FAIL</td>\n",
       "      <td>  drama</td>\n",
       "      <td>    R</td>\n",
       "      <td> 20000000</td>\n",
       "      <td> NaN</td>\n",
       "      <td>NaN</td>\n",
       "      <td>NaN</td>\n",
       "      <td>NaN</td>\n",
       "      <td>NaN</td>\n",
       "    </tr>\n",
       "    <tr>\n",
       "      <th>3</th>\n",
       "      <td> 2013</td>\n",
       "      <td> tt1272878</td>\n",
       "      <td>           2 Guns</td>\n",
       "      <td> notalk</td>\n",
       "      <td> FAIL</td>\n",
       "      <td> action</td>\n",
       "      <td>    R</td>\n",
       "      <td> 61000000</td>\n",
       "      <td> NaN</td>\n",
       "      <td>NaN</td>\n",
       "      <td>NaN</td>\n",
       "      <td>NaN</td>\n",
       "      <td>NaN</td>\n",
       "    </tr>\n",
       "    <tr>\n",
       "      <th>4</th>\n",
       "      <td> 2013</td>\n",
       "      <td> tt0453562</td>\n",
       "      <td>               42</td>\n",
       "      <td>    men</td>\n",
       "      <td> FAIL</td>\n",
       "      <td>  drama</td>\n",
       "      <td> PG13</td>\n",
       "      <td> 40000000</td>\n",
       "      <td> 7.5</td>\n",
       "      <td>NaN</td>\n",
       "      <td>NaN</td>\n",
       "      <td>NaN</td>\n",
       "      <td>NaN</td>\n",
       "    </tr>\n",
       "  </tbody>\n",
       "</table>\n",
       "</div>"
      ],
      "text/plain": [
       "   year       imdb             title clean_test binary   genre age_rating  \\\n",
       "0  2013  tt1711425     21 &amp; Over     notalk   FAIL  comedy          R   \n",
       "1  2012  tt1343727          Dredd 3D         ok   PASS   scifi          R   \n",
       "2  2013  tt2024544  12 Years a Slave     notalk   FAIL   drama          R   \n",
       "3  2013  tt1272878            2 Guns     notalk   FAIL  action          R   \n",
       "4  2013  tt0453562                42        men   FAIL   drama       PG13   \n",
       "\n",
       "   budget_2013$  star_rating  creator  director  cast  writer  \n",
       "0      13000000          NaN      NaN       NaN   NaN     NaN  \n",
       "1      45658735          NaN      NaN       NaN   NaN     NaN  \n",
       "2      20000000          NaN      NaN       NaN   NaN     NaN  \n",
       "3      61000000          NaN      NaN       NaN   NaN     NaN  \n",
       "4      40000000          7.5      NaN       NaN   NaN     NaN  "
      ]
     },
     "execution_count": 5,
     "metadata": {},
     "output_type": "execute_result"
    }
   ],
   "source": [
    "\n",
    "#just a little test to see how imdbpy works\n",
    "id = df.iloc[4][1]\n",
    "print id\n",
    "real_id = int(id[2:])\n",
    "movie = im.get_movie(real_id)\n",
    "df.loc[4, 'star_rating'] = movie['rating']\n",
    "df.head()\n"
   ]
  },
  {
   "cell_type": "code",
   "execution_count": 1,
   "metadata": {
    "collapsed": true
   },
   "outputs": [],
   "source": [
    "#movies = dict()\n",
    "#for i in range (len(df)):\n",
    "    #id = df.iloc[i][1]\n",
    "    #real_id = int(id[2:])\n",
    "    #movie = im.get_movie(real_id)\n",
    "    #movies[real_id] = movie"
   ]
  },
  {
   "cell_type": "markdown",
   "metadata": {},
   "source": [
    "the reason the above is commented out is because it takes a very long time to run. \n",
    "I did however use this code to get the movie objects\n",
    "\n",
    "this (below) is also commented out because it ran based on the movies array. It doesn't really\n",
    "make sense without it. "
   ]
  },
  {
   "cell_type": "code",
   "execution_count": 2,
   "metadata": {
    "collapsed": true
   },
   "outputs": [],
   "source": [
    "#def add_zeros(id_number):\n",
    "#    str_id = str(id_number)  \n",
    "#    while len(str_id) < 7: \n",
    "#        str_id = '0' + str_id     \n",
    "#    return str_id\n",
    "\n",
    "\n",
    "\n",
    "#def make_nice(thing):\n",
    "#    new = []\n",
    "#    for i in thing:\n",
    "#        new.append(str(i))\n",
    "#    return str(new)\n",
    "\n",
    "\n",
    "#for movie_id in movies:\n",
    "#    real_movie = movies[movie_id]   \n",
    "#    df_id = 'tt' + add_zeros(movie_id) \n",
    "#    if len(df[df.imdb == df_id].index.values) == 0:\n",
    "#        continue\n",
    "#    i = df[df.imdb == df_id].index.values[0]\n",
    "#    df.ix[i, 'star_rating'] = real_movie.get('rating')   \n",
    "#    df.ix[i, 'director'] = real_movie['directed by'][0]  \n",
    "#    df.ix[i, 'cast'] = make_nice(real_movie['actors'][:5])\n",
    "#    #df.ix[i, 'writer'] = make_nice(real_movie.get('writer'))\n",
    "#    df.ix[i, 'genre'] = real_movie['genre'][0]\n",
    "\n"
   ]
  },
  {
   "cell_type": "markdown",
   "metadata": {
    "collapsed": false
   },
   "source": [
    "The data from imdbpy is stored in 'complete_movies.csv'\n",
    "\n",
    "df.to_csv('complete_movies.csv')"
   ]
  }
 ],
 "metadata": {
  "kernelspec": {
   "display_name": "Python 2",
   "language": "python",
   "name": "python2"
  },
  "language_info": {
   "codemirror_mode": {
    "name": "ipython",
    "version": 2
   },
   "file_extension": ".py",
   "mimetype": "text/x-python",
   "name": "python",
   "nbconvert_exporter": "python",
   "pygments_lexer": "ipython2",
   "version": "2.7.9"
  }
 },
 "nbformat": 4,
 "nbformat_minor": 0
}
