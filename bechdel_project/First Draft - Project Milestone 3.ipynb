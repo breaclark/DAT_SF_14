{
 "cells": [
  {
   "cell_type": "markdown",
   "metadata": {},
   "source": [
    "# Bechdel Test Data Analysis\n",
    "\n",
    "The aim of this project will be to predict a movie's Bechdel Test verdict based on information like rating, genre, budget, cast, etc. \n",
    "\n",
    "The Bechdel Test: A test consisting of 3 criteria that build on eachother, meant to test if a movie has a certain level of female representation. To pass the Bechdel Test, a movie must...\n",
    "1. Have at least 2 named female characters\n",
    "2. The female characters must have a conversation with each other\n",
    "3. They must talk about something other than men\n",
    "If you want to know more about the Bechdel Test, you can find out more here https://en.wikipedia.org/wiki/Bechdel_test\n",
    "\n",
    "The data that I started with for this project came from https://github.com/fivethirtyeight/data/tree/master/bechdel, Fivethirtyeight's github page. The following article uses this data set to show how movies which pass the Bechdel Test tend to do better in the box office. http://fivethirtyeight.com/features/the-dollar-and-cents-case-against-hollywoods-exclusion-of-women/ I aim to build upon this data and discover new trends.\n",
    "\n",
    "First, here are a few charts based on the original data set."
   ]
  },
  {
   "cell_type": "markdown",
   "metadata": {},
   "source": [
    "# I: Charts"
   ]
  },
  {
   "cell_type": "code",
   "execution_count": 1,
   "metadata": {
    "collapsed": false
   },
   "outputs": [
    {
     "data": {
      "text/html": [
       "<div style=\"max-height:1000px;max-width:1500px;overflow:auto;\">\n",
       "<table border=\"1\" class=\"dataframe\">\n",
       "  <thead>\n",
       "    <tr style=\"text-align: right;\">\n",
       "      <th></th>\n",
       "      <th>year</th>\n",
       "      <th>imdb</th>\n",
       "      <th>title</th>\n",
       "      <th>clean_test</th>\n",
       "      <th>binary</th>\n",
       "      <th>genre</th>\n",
       "      <th>age_rating</th>\n",
       "      <th>budget_2013$</th>\n",
       "      <th>star_rating</th>\n",
       "      <th>creator</th>\n",
       "      <th>director</th>\n",
       "      <th>cast</th>\n",
       "      <th>writer</th>\n",
       "    </tr>\n",
       "  </thead>\n",
       "  <tbody>\n",
       "    <tr>\n",
       "      <th>0</th>\n",
       "      <td> 2013</td>\n",
       "      <td> tt1711425</td>\n",
       "      <td>    21 &amp;amp; Over</td>\n",
       "      <td> notalk</td>\n",
       "      <td> FAIL</td>\n",
       "      <td> comedy</td>\n",
       "      <td>    R</td>\n",
       "      <td> 13000000</td>\n",
       "      <td>NaN</td>\n",
       "      <td>NaN</td>\n",
       "      <td>NaN</td>\n",
       "      <td>NaN</td>\n",
       "      <td>NaN</td>\n",
       "    </tr>\n",
       "    <tr>\n",
       "      <th>1</th>\n",
       "      <td> 2012</td>\n",
       "      <td> tt1343727</td>\n",
       "      <td>         Dredd 3D</td>\n",
       "      <td>     ok</td>\n",
       "      <td> PASS</td>\n",
       "      <td>  scifi</td>\n",
       "      <td>    R</td>\n",
       "      <td> 45658735</td>\n",
       "      <td>NaN</td>\n",
       "      <td>NaN</td>\n",
       "      <td>NaN</td>\n",
       "      <td>NaN</td>\n",
       "      <td>NaN</td>\n",
       "    </tr>\n",
       "    <tr>\n",
       "      <th>2</th>\n",
       "      <td> 2013</td>\n",
       "      <td> tt2024544</td>\n",
       "      <td> 12 Years a Slave</td>\n",
       "      <td> notalk</td>\n",
       "      <td> FAIL</td>\n",
       "      <td>  drama</td>\n",
       "      <td>    R</td>\n",
       "      <td> 20000000</td>\n",
       "      <td>NaN</td>\n",
       "      <td>NaN</td>\n",
       "      <td>NaN</td>\n",
       "      <td>NaN</td>\n",
       "      <td>NaN</td>\n",
       "    </tr>\n",
       "    <tr>\n",
       "      <th>3</th>\n",
       "      <td> 2013</td>\n",
       "      <td> tt1272878</td>\n",
       "      <td>           2 Guns</td>\n",
       "      <td> notalk</td>\n",
       "      <td> FAIL</td>\n",
       "      <td> action</td>\n",
       "      <td>    R</td>\n",
       "      <td> 61000000</td>\n",
       "      <td>NaN</td>\n",
       "      <td>NaN</td>\n",
       "      <td>NaN</td>\n",
       "      <td>NaN</td>\n",
       "      <td>NaN</td>\n",
       "    </tr>\n",
       "    <tr>\n",
       "      <th>4</th>\n",
       "      <td> 2013</td>\n",
       "      <td> tt0453562</td>\n",
       "      <td>               42</td>\n",
       "      <td>    men</td>\n",
       "      <td> FAIL</td>\n",
       "      <td>  drama</td>\n",
       "      <td> PG13</td>\n",
       "      <td> 40000000</td>\n",
       "      <td>NaN</td>\n",
       "      <td>NaN</td>\n",
       "      <td>NaN</td>\n",
       "      <td>NaN</td>\n",
       "      <td>NaN</td>\n",
       "    </tr>\n",
       "  </tbody>\n",
       "</table>\n",
       "</div>"
      ],
      "text/plain": [
       "   year       imdb             title clean_test binary   genre age_rating  \\\n",
       "0  2013  tt1711425     21 &amp; Over     notalk   FAIL  comedy          R   \n",
       "1  2012  tt1343727          Dredd 3D         ok   PASS   scifi          R   \n",
       "2  2013  tt2024544  12 Years a Slave     notalk   FAIL   drama          R   \n",
       "3  2013  tt1272878            2 Guns     notalk   FAIL  action          R   \n",
       "4  2013  tt0453562                42        men   FAIL   drama       PG13   \n",
       "\n",
       "   budget_2013$  star_rating  creator  director  cast  writer  \n",
       "0      13000000          NaN      NaN       NaN   NaN     NaN  \n",
       "1      45658735          NaN      NaN       NaN   NaN     NaN  \n",
       "2      20000000          NaN      NaN       NaN   NaN     NaN  \n",
       "3      61000000          NaN      NaN       NaN   NaN     NaN  \n",
       "4      40000000          NaN      NaN       NaN   NaN     NaN  "
      ]
     },
     "execution_count": 1,
     "metadata": {},
     "output_type": "execute_result"
    }
   ],
   "source": [
    "import numpy as np\n",
    "import pandas as pd\n",
    "import matplotlib.pyplot as plt\n",
    "%matplotlib inline\n",
    "\n",
    "df = pd.read_csv(\"bechdel_data_min.csv\")\n",
    "df.head()"
   ]
  },
  {
   "cell_type": "markdown",
   "metadata": {
    "collapsed": true
   },
   "source": [
    "Here you can actually see some columns I added in later. The columns that are not filled with NaN's are the originals. "
   ]
  },
  {
   "cell_type": "code",
   "execution_count": 2,
   "metadata": {
    "collapsed": false
   },
   "outputs": [
    {
     "data": {
      "image/png": "[encoded data removed]",
      "text/plain": [
       "<matplotlib.figure.Figure at 0x1078de590>"
      ]
     },
     "metadata": {},
     "output_type": "display_data"
    }
   ],
   "source": [
    "# making a chart of number of passing movies per year\n",
    "\n",
    "passed_per_year = []\n",
    "\n",
    "for i in xrange(1970, 2014):\n",
    "    passed = len(df[(df.binary == \"PASS\") & (df.year == i)])\n",
    "    passed_per_year.append([i, (passed)])\n",
    "    \n",
    "df_ppy = pd.DataFrame(passed_per_year, columns = ['year', 'passing'])\n",
    "\n",
    "# making a chart of percentage of passing movies per year\n",
    "\n",
    "passed_vs_total = []\n",
    "\n",
    "for i in xrange(1970, 2014):\n",
    "    passed = len(df[(df.binary == \"PASS\") & (df.year == i)])\n",
    "    total = len(df[df.year == i])\n",
    "    passed_vs_total.append([i, (passed/float(total))*100])\n",
    "    \n",
    "df_pvt = pd.DataFrame(passed_vs_total, columns = ['year', 'p_passing'])\n",
    "\n",
    "plt.subplot(2, 1, 1)\n",
    "plt.bar(df_ppy.year, df_ppy.passing,1, color='lightskyblue')\n",
    "plt.ylabel('Passing Movies')\n",
    "plt.title('Passing Movies Per Year')\n",
    "\n",
    "plt.subplot(2, 1, 2)\n",
    "plt.bar(df_pvt.year, df_pvt.p_passing,1, color='lightcoral')\n",
    "plt.ylabel('Percentage of Passing Movies')\n",
    "plt.title('Percentage of Passing Movies Per Year')\n",
    "plt.subplots_adjust(hspace=1)"
   ]
  },
  {
   "cell_type": "code",
   "execution_count": 3,
   "metadata": {
    "collapsed": false
   },
   "outputs": [
    {
     "data": {
      "text/plain": [
       "<matplotlib.text.Text at 0x107e70a10>"
      ]
     },
     "execution_count": 3,
     "metadata": {},
     "output_type": "execute_result"
    },
    {
     "data": {
      "image/png": "[encoded data removed]",
      "text/plain": [
       "<matplotlib.figure.Figure at 0x107dfeb50>"
      ]
     },
     "metadata": {},
     "output_type": "display_data"
    }
   ],
   "source": [
    "# percent of total movies surveyed that totally pass, fail different parts\n",
    "\n",
    "length = len(df)\n",
    "categories = [\"ok\", \"dubious\", \"nowomen\", \"notalk\", \"men\"]\n",
    "criterion_ps = []\n",
    "for category in categories:\n",
    "    criterion_ps.append((len(df[df.clean_test == category]))/float(length))\n",
    "\n",
    "\n",
    "cats = [\"Pass\", \"Dubious\", \"Not Enough \\nFemale Characters\", \"Female Characters Don't \\nHave a Conversation\", \"Female Characters \\nOnly Talk About Men\"]\n",
    "plt.pie(criterion_ps, explode=None, labels = cats,\n",
    "    colors=('yellowgreen', 'gold', 'lightskyblue', 'lightcoral', 'plum'),\n",
    "    autopct='%1.1f%%', pctdistance=0.6, shadow=True,\n",
    "    labeldistance=1.1, startangle=45, radius=None,\n",
    "    counterclock=True, wedgeprops=None, textprops=None)\n",
    "plt.axis('equal')\n",
    "plt.title('Percentage of Movies Surveyed that Meet Each Bechdel Test Criterion')\n"
   ]
  },
  {
   "cell_type": "code",
   "execution_count": 4,
   "metadata": {
    "collapsed": false
   },
   "outputs": [
    {
     "data": {
      "text/plain": [
       "<matplotlib.text.Text at 0x107ab0f50>"
      ]
     },
     "execution_count": 4,
     "metadata": {},
     "output_type": "execute_result"
    },
    {
     "data": {
      "image/png": "[encoded data removed]",
      "text/plain": [
       "<matplotlib.figure.Figure at 0x107a48150>"
      ]
     },
     "metadata": {},
     "output_type": "display_data"
    }
   ],
   "source": [
    "# of movies that passed, what percents of each genre\n",
    "\n",
    "passed_total = len(df[df.binary == \"PASS\"])\n",
    "genres = [\"action\",\"comedy\",\"drama\",\"horror\",\"kids\",\"romance\",\"scifi\"]\n",
    "genre_ps = []\n",
    "for genre in genres:\n",
    "    genre_ps.append((len(df[(df.binary == \"PASS\") & (df.genre == genre )]))/float(passed_total))\n",
    "\n",
    "cats = [\"Action\",\"Comedy\",\"Drama\",\"Horror\",\"Kids\",\"Romance\",\"Science Fiction\"]\n",
    "plt.pie(genre_ps, explode=None, labels = cats,\n",
    "    colors=('yellowgreen', 'gold', 'lightskyblue', 'lightcoral', 'plum', 'slategray','mediumturquoise'),\n",
    "    autopct='%1.1f%%', pctdistance=0.6, shadow=True,\n",
    "    labeldistance=1.1, startangle=-15, radius=None,\n",
    "    counterclock=True, wedgeprops=None, textprops=None)\n",
    "plt.axis('equal')\n",
    "plt.title('Genre Breakdown of Passing Movies')"
   ]
  },
  {
   "cell_type": "code",
   "execution_count": 5,
   "metadata": {
    "collapsed": false
   },
   "outputs": [
    {
     "data": {
      "text/plain": [
       "<matplotlib.text.Text at 0x107976ed0>"
      ]
     },
     "execution_count": 5,
     "metadata": {},
     "output_type": "execute_result"
    },
    {
     "data": {
      "image/png": "[encoded data removed]",
      "text/plain": [
       "<matplotlib.figure.Figure at 0x107bc2e50>"
      ]
     },
     "metadata": {},
     "output_type": "display_data"
    }
   ],
   "source": [
    "# of movies that passed, what age rating of each movie\n",
    "\n",
    "ratings = [\"G\",\"PG\",\"PG13\",\"R\",\"NR\"]\n",
    "rating_ps = []\n",
    "for rating in ratings:\n",
    "    rating_ps.append((len(df[(df.binary == \"PASS\") & (df.age_rating == rating )]))/float(passed_total))\n",
    "\n",
    "plt.pie(rating_ps, explode=None, labels = ratings,\n",
    "    colors=('yellowgreen', 'gold', 'lightskyblue', 'lightcoral', 'plum'),\n",
    "    autopct='%1.1f%%', pctdistance=0.6, shadow=True,\n",
    "    labeldistance=1.1, startangle=None, radius=None,\n",
    "    counterclock=True, wedgeprops=None, textprops=None)\n",
    "plt.axis('equal')\n",
    "plt.title('Age Rating Breakdown of Passing Movies')"
   ]
  },
  {
   "cell_type": "markdown",
   "metadata": {},
   "source": [
    "These are just some preliminary charts, there will be more to come once I add in more data. \n",
    "\n",
    "# II: Aquiring More Data\n",
    "\n",
    "To fill out the data more and make my analysis different from the previously mentioned article, I decided to add in imdb's star_rating, director, cast, and writers. The following is how I got that data, and then put it into a format which I could process"
   ]
  },
  {
   "cell_type": "code",
   "execution_count": 8,
   "metadata": {
    "collapsed": false
   },
   "outputs": [
    {
     "data": {
      "text/html": [
       "<div style=\"max-height:1000px;max-width:1500px;overflow:auto;\">\n",
       "<table border=\"1\" class=\"dataframe\">\n",
       "  <thead>\n",
       "    <tr style=\"text-align: right;\">\n",
       "      <th></th>\n",
       "      <th>year</th>\n",
       "      <th>imdb</th>\n",
       "      <th>title</th>\n",
       "      <th>clean_test</th>\n",
       "      <th>binary</th>\n",
       "      <th>genre</th>\n",
       "      <th>age_rating</th>\n",
       "      <th>budget_2013$</th>\n",
       "      <th>star_rating</th>\n",
       "      <th>creator</th>\n",
       "      <th>director</th>\n",
       "      <th>cast</th>\n",
       "      <th>writer</th>\n",
       "    </tr>\n",
       "  </thead>\n",
       "  <tbody>\n",
       "    <tr>\n",
       "      <th>0</th>\n",
       "      <td> 2013</td>\n",
       "      <td> tt1711425</td>\n",
       "      <td>    21 &amp;amp; Over</td>\n",
       "      <td> notalk</td>\n",
       "      <td> FAIL</td>\n",
       "      <td> comedy</td>\n",
       "      <td>    R</td>\n",
       "      <td> 13000000</td>\n",
       "      <td> NaN</td>\n",
       "      <td>NaN</td>\n",
       "      <td>NaN</td>\n",
       "      <td>NaN</td>\n",
       "      <td>NaN</td>\n",
       "    </tr>\n",
       "    <tr>\n",
       "      <th>1</th>\n",
       "      <td> 2012</td>\n",
       "      <td> tt1343727</td>\n",
       "      <td>         Dredd 3D</td>\n",
       "      <td>     ok</td>\n",
       "      <td> PASS</td>\n",
       "      <td>  scifi</td>\n",
       "      <td>    R</td>\n",
       "      <td> 45658735</td>\n",
       "      <td> NaN</td>\n",
       "      <td>NaN</td>\n",
       "      <td>NaN</td>\n",
       "      <td>NaN</td>\n",
       "      <td>NaN</td>\n",
       "    </tr>\n",
       "    <tr>\n",
       "      <th>2</th>\n",
       "      <td> 2013</td>\n",
       "      <td> tt2024544</td>\n",
       "      <td> 12 Years a Slave</td>\n",
       "      <td> notalk</td>\n",
       "      <td> FAIL</td>\n",
       "      <td>  drama</td>\n",
       "      <td>    R</td>\n",
       "      <td> 20000000</td>\n",
       "      <td> NaN</td>\n",
       "      <td>NaN</td>\n",
       "      <td>NaN</td>\n",
       "      <td>NaN</td>\n",
       "      <td>NaN</td>\n",
       "    </tr>\n",
       "    <tr>\n",
       "      <th>3</th>\n",
       "      <td> 2013</td>\n",
       "      <td> tt1272878</td>\n",
       "      <td>           2 Guns</td>\n",
       "      <td> notalk</td>\n",
       "      <td> FAIL</td>\n",
       "      <td> action</td>\n",
       "      <td>    R</td>\n",
       "      <td> 61000000</td>\n",
       "      <td> NaN</td>\n",
       "      <td>NaN</td>\n",
       "      <td>NaN</td>\n",
       "      <td>NaN</td>\n",
       "      <td>NaN</td>\n",
       "    </tr>\n",
       "    <tr>\n",
       "      <th>4</th>\n",
       "      <td> 2013</td>\n",
       "      <td> tt0453562</td>\n",
       "      <td>               42</td>\n",
       "      <td>    men</td>\n",
       "      <td> FAIL</td>\n",
       "      <td>  drama</td>\n",
       "      <td> PG13</td>\n",
       "      <td> 40000000</td>\n",
       "      <td> 7.5</td>\n",
       "      <td>NaN</td>\n",
       "      <td>NaN</td>\n",
       "      <td>NaN</td>\n",
       "      <td>NaN</td>\n",
       "    </tr>\n",
       "  </tbody>\n",
       "</table>\n",
       "</div>"
      ],
      "text/plain": [
       "   year       imdb             title clean_test binary   genre age_rating  \\\n",
       "0  2013  tt1711425     21 &amp; Over     notalk   FAIL  comedy          R   \n",
       "1  2012  tt1343727          Dredd 3D         ok   PASS   scifi          R   \n",
       "2  2013  tt2024544  12 Years a Slave     notalk   FAIL   drama          R   \n",
       "3  2013  tt1272878            2 Guns     notalk   FAIL  action          R   \n",
       "4  2013  tt0453562                42        men   FAIL   drama       PG13   \n",
       "\n",
       "   budget_2013$  star_rating  creator  director  cast  writer  \n",
       "0      13000000          NaN      NaN       NaN   NaN     NaN  \n",
       "1      45658735          NaN      NaN       NaN   NaN     NaN  \n",
       "2      20000000          NaN      NaN       NaN   NaN     NaN  \n",
       "3      61000000          NaN      NaN       NaN   NaN     NaN  \n",
       "4      40000000          7.5      NaN       NaN   NaN     NaN  "
      ]
     },
     "execution_count": 8,
     "metadata": {},
     "output_type": "execute_result"
    }
   ],
   "source": [
    "from imdb import IMDb\n",
    "im = IMDb()\n",
    "\n",
    "#just a little test to show imdbpy works\n",
    "id = df.iloc[4][1] # snagging the movie id for the movie \"42\"\n",
    "real_id = int(id[2:]) # converting to an int\n",
    "movie = im.get_movie(real_id) #getting the movie object from imdbpy\n",
    "df.loc[4, 'star_rating'] = movie['rating']# setting the cell\n",
    "df.head()"
   ]
  },
  {
   "cell_type": "markdown",
   "metadata": {},
   "source": [
    "When you lookup a movie on imdbpy, you get back a movie object, which holds information about the movie like star_rating and such. Here you can see in row: 4, column: star rating, the star rating has been changed to 7.5.\n",
    "\n",
    "So the code that follows is commented out because it takes a very long time to run. This was one struggle I faced when getting the imdb data. Either I could get all the data in a file and then find a way to parse it into a dataframe myself, or use imdbpy which did that easily for me but took a long time. I went the imdbpy route."
   ]
  },
  {
   "cell_type": "code",
   "execution_count": 9,
   "metadata": {
    "collapsed": true
   },
   "outputs": [],
   "source": [
    "#movies = dict()\n",
    "#for i in range (len(df)):\n",
    "    #id = df.iloc[i][1]\n",
    "    #real_id = int(id[2:])\n",
    "    #movie = im.get_movie(real_id)\n",
    "    #movies[real_id] = movie\n",
    "    \n",
    "#def add_zeros(id_number):\n",
    "#    str_id = str(id_number)  \n",
    "#    while len(str_id) < 7: \n",
    "#        str_id = '0' + str_id     \n",
    "#    return str_id\n",
    "\n",
    "#def arr_to_string(thing):\n",
    "#    new = []\n",
    "#    for i in thing:\n",
    "#        new.append(str(i))\n",
    "#    return str(new)\n",
    "\n",
    "#for movie_id in movies:\n",
    "#    real_movie = movies[movie_id]   \n",
    "#    df_id = 'tt' + add_zeros(movie_id) \n",
    "#    if len(df[df.imdb == df_id].index.values) == 0:\n",
    "#        continue\n",
    "#    i = df[df.imdb == df_id].index.values[0]\n",
    "#    df.ix[i, 'star_rating'] = real_movie.get('rating')   \n",
    "#    df.ix[i, 'director'] = real_movie['directed by'][0]  \n",
    "#    df.ix[i, 'cast'] = arr_to_string(real_movie['actors'][:5])\n",
    "#    #df.ix[i, 'writer'] = arr_to_string(real_movie.get('writer'))\n",
    "#    df.ix[i, 'genre'] = real_movie['genre'][0]\n",
    "\n",
    "#df.to_csv('complete_movies.csv')"
   ]
  },
  {
   "cell_type": "markdown",
   "metadata": {},
   "source": [
    "Once I had taken the time to get all the data, I needed a way to put it somewhere so I could process it later. This is why this part is a little bit messy. \n",
    "\n",
    "The add_zeros function is necessary because in taking a string id, for example 'tt0021425', by making then taking [2:] of it, or '0021425', and then turning that into an int, we are left with 21425. This can be used to look up movies on imdbpy, but when we try to simply add back the 'tt' to look it up in our original dataframe, we get 'tt21425'.\n",
    "\n",
    "The arr_to_string function deals with a problem that I did not realize the root of until later. Dataframes are not great at holding arrays. Thus my messy way around it here was just to take the names of the writers and actors from the writer and actor objects and put them into a string which I'll later convert back into an array. "
   ]
  },
  {
   "cell_type": "markdown",
   "metadata": {},
   "source": [
    "# III: Prepping All the Data for Analysis\n",
    "\n",
    "So for the analysis phase of this project I'll be using a Decision Tree. Thus I must convert all of the data in each column into numbers. Categorizing the splits is not so straightforward for each label.\n",
    "\n",
    "years - split into 5 year periods\n",
    "\n",
    "ids, clean_test and titles - keep, but don't analyze\n",
    "\n",
    "binary, genre, rating, and director - use sci-kit's LabelEncoder()\n",
    "\n",
    "budgets - these turned out to be too big, so i interpreted them in the 1000s instead.\n",
    "\n",
    "star_ratings - make integer cutoffs\n",
    "\n",
    "cast - going to have to do something special\n",
    "\n",
    "writer - use the same technique as for cast"
   ]
  },
  {
   "cell_type": "code",
   "execution_count": 10,
   "metadata": {
    "collapsed": true
   },
   "outputs": [],
   "source": [
    "import math\n",
    "import string\n",
    "from sklearn import preprocessing\n",
    "from sklearn.cross_validation import train_test_split\n",
    "from sklearn.tree import DecisionTreeRegressor\n",
    "from sklearn import metrics\n",
    "from sklearn.cross_validation import cross_val_score\n",
    "\n",
    "df = pd.read_csv(\"complete_movies.csv\")"
   ]
  },
  {
   "cell_type": "code",
   "execution_count": 11,
   "metadata": {
    "collapsed": false
   },
   "outputs": [
    {
     "name": "stderr",
     "output_type": "stream",
     "text": [
      "/Users/BREA/anaconda/lib/python2.7/site-packages/numpy/lib/arraysetops.py:198: FutureWarning: numpy not_equal will not check object identity in the future. The comparison did not return the same result as suggested by the identity (`is`)) and will change.\n",
      "  flag = np.concatenate(([True], aux[1:] != aux[:-1]))\n"
     ]
    }
   ],
   "source": [
    "#making clean_test, binary, genre, age_rating, and director into ints\n",
    "\n",
    "lab = preprocessing.LabelEncoder()\n",
    "categoricals = ['clean_test','binary','genre','age_rating','director']\n",
    "for categorical in categoricals: df[categorical] = lab.fit_transform(df[categorical])"
   ]
  },
  {
   "cell_type": "code",
   "execution_count": 12,
   "metadata": {
    "collapsed": true
   },
   "outputs": [],
   "source": [
    "#making star_ratings into ints\n",
    "\n",
    "for i in range (len(df)):\n",
    "    star = df.ix[i,8]\n",
    "    if not math.isnan(star):\n",
    "        id = int(star)\n",
    "        df.ix[i, 8] = id\n",
    "    else:\n",
    "        df.ix[i, 8] = -1"
   ]
  },
  {
   "cell_type": "code",
   "execution_count": 13,
   "metadata": {
    "collapsed": true
   },
   "outputs": [],
   "source": [
    "#puts years into year ranges\n",
    "\n",
    "for i in range (len(df)):\n",
    "    year = df.ix[i,0]\n",
    "    #gets decade\n",
    "    new_year = (year % 100) - (year % 10)\n",
    "    #rounds new_year to the nearest half decade\n",
    "    if year%10 >= 5:\n",
    "        new_year += 5\n",
    "    df.ix[i,0] = new_year"
   ]
  },
  {
   "cell_type": "code",
   "execution_count": 16,
   "metadata": {
    "collapsed": false
   },
   "outputs": [],
   "source": [
    "# making actor/writer strings back into arrays of actors/writers\n",
    "\n",
    "def string_to_arr(thing):\n",
    "    thing = string.replace(thing,\"'\", \"\")\n",
    "    thing = string.replace(thing,\"[\",\"\")\n",
    "    thing = string.replace(thing,\"]\",\"\")\n",
    "    new = string.split(thing, ',')\n",
    "    return new\n",
    "\n",
    "#first set all the nans to \"\"\n",
    "\n",
    "df.cast.fillna(\"\", inplace=True)\n",
    "df.writer.fillna(\"\", inplace=True)\n",
    "\n",
    "# because I can't store these in the dataframe, they go in their own array\n",
    "\n",
    "actor_array = []\n",
    "writer_array = [] \n",
    "for i in range (len(df)):\n",
    "    actor_array.append(string_to_arr(df.ix[i,10]))\n",
    "    writer_array.append(string_to_arr(df.ix[i,11]))\n"
   ]
  },
  {
   "cell_type": "markdown",
   "metadata": {},
   "source": [
    "Next I tackled how to tell how influential an actor or writer might be in the passing of a movie. I made a dictionary with actors as keys, and an array of 1s and 0s as values. Each 1 represents a passing movie the actor has appeared in, while each 0 represents a fail. Then I can easily check for any given actor what percentage of their movies has passed the test. Similarly for the writers."
   ]
  },
  {
   "cell_type": "code",
   "execution_count": 17,
   "metadata": {
    "collapsed": true
   },
   "outputs": [],
   "source": [
    "def make_into_dict(arr, df):\n",
    "    dictionary = {}\n",
    "    for i in range(len(arr)):\n",
    "        #verdict is 1 for pass, 0 for fail \n",
    "        verdict = df.ix[i,4]\n",
    "        #gets the cast list for movie index i \n",
    "        people = arr[i]\n",
    "        for person in people:\n",
    "            #puts a person in the dictionary and/or adds their passing/failing movie\n",
    "            if person in dictionary:\n",
    "                dictionary[person].append(verdict)\n",
    "            else:\n",
    "                dictionary[person] = [verdict]\n",
    "    return dictionary\n",
    "\n",
    "# Making the actual dictionaries for actors and writers\n",
    "\n",
    "actor_pass_dict = make_into_dict(actor_array, df)\n",
    "writer_pass_dict = make_into_dict(writer_array, df)"
   ]
  },
  {
   "cell_type": "code",
   "execution_count": 18,
   "metadata": {
    "collapsed": true
   },
   "outputs": [],
   "source": [
    "# Dividing the budget_2013$ by 1000 so it can fit into int32 format\n",
    "\n",
    "for i in range (len(df)):\n",
    "    budget = df.ix[i,7]\n",
    "    if not math.isnan(budget):\n",
    "        df.ix[i,7] = budget/1000\n",
    "    else:\n",
    "        df.ix[i,7] = 10"
   ]
  },
  {
   "cell_type": "code",
   "execution_count": 19,
   "metadata": {
    "collapsed": false
   },
   "outputs": [
    {
     "data": {
      "text/plain": [
       "year            False\n",
       "imdb            False\n",
       "title           False\n",
       "clean_test      False\n",
       "binary          False\n",
       "genre           False\n",
       "age_rating      False\n",
       "budget_2013$    False\n",
       "star_rating     False\n",
       "director        False\n",
       "cast            False\n",
       "writer          False\n",
       "dtype: bool"
      ]
     },
     "execution_count": 19,
     "metadata": {},
     "output_type": "execute_result"
    }
   ],
   "source": [
    "#Checking to make sure all NaN's are filled\n",
    "\n",
    "df.isnull().any()"
   ]
  },
  {
   "cell_type": "markdown",
   "metadata": {},
   "source": [
    "# IV: The Analysis"
   ]
  },
  {
   "cell_type": "code",
   "execution_count": 23,
   "metadata": {
    "collapsed": false
   },
   "outputs": [
    {
     "data": {
      "text/plain": [
       "DecisionTreeRegressor(compute_importances=None, criterion='mse',\n",
       "           max_depth=None, max_features=None, max_leaf_nodes=None,\n",
       "           min_density=None, min_samples_leaf=1, min_samples_split=2,\n",
       "           random_state=1, splitter='best')"
      ]
     },
     "execution_count": 23,
     "metadata": {},
     "output_type": "execute_result"
    }
   ],
   "source": [
    "df_new = df.drop(['imdb','title','clean_test','cast','writer'], axis = 1)\n",
    "feature_cols = df_new.drop(['binary'], axis = 1).columns \n",
    "#all but the imdb, title, binary, cast, writer columns\n",
    "X = df_new[feature_cols] # have to add in the other columns from arrays\n",
    "y = df_new.binary\n",
    "\n",
    "X_train, X_test, y_train, y_test = train_test_split(X, y, random_state=1)\n",
    "\n",
    "treereg = DecisionTreeRegressor(random_state=1)\n",
    "treereg.fit(X_train, y_train)"
   ]
  },
  {
   "cell_type": "code",
   "execution_count": 25,
   "metadata": {
    "collapsed": false
   },
   "outputs": [
    {
     "data": {
      "text/plain": [
       "0.17490199818662697"
      ]
     },
     "execution_count": 25,
     "metadata": {},
     "output_type": "execute_result"
    }
   ],
   "source": [
    "preds = treereg.predict(X_test)\n",
    "np.sqrt(metrics.mean_squared_error(y_test, preds))\n",
    "\n",
    "treereg = DecisionTreeRegressor(max_depth=14, random_state=4)\n",
    "scores = cross_val_score(treereg, X, y, cv=3, scoring='mean_squared_error')\n",
    "np.mean(np.sqrt(-scores))"
   ]
  },
  {
   "cell_type": "code",
   "execution_count": 26,
   "metadata": {
    "collapsed": false
   },
   "outputs": [
    {
     "data": {
      "text/plain": [
       "DecisionTreeRegressor(compute_importances=None, criterion='mse', max_depth=14,\n",
       "           max_features=None, max_leaf_nodes=None, min_density=None,\n",
       "           min_samples_leaf=1, min_samples_split=2, random_state=1,\n",
       "           splitter='best')"
      ]
     },
     "execution_count": 26,
     "metadata": {},
     "output_type": "execute_result"
    }
   ],
   "source": [
    "# 14 seemed the best depth\n",
    "\n",
    "treereg = DecisionTreeRegressor(max_depth=14, random_state=1)\n",
    "treereg.fit(X, y)"
   ]
  },
  {
   "cell_type": "code",
   "execution_count": 27,
   "metadata": {
    "collapsed": false
   },
   "outputs": [
    {
     "data": {
      "text/html": [
       "<div style=\"max-height:1000px;max-width:1500px;overflow:auto;\">\n",
       "<table border=\"1\" class=\"dataframe\">\n",
       "  <thead>\n",
       "    <tr style=\"text-align: right;\">\n",
       "      <th></th>\n",
       "      <th>feature</th>\n",
       "      <th>importance</th>\n",
       "    </tr>\n",
       "  </thead>\n",
       "  <tbody>\n",
       "    <tr>\n",
       "      <th>0</th>\n",
       "      <td>         year</td>\n",
       "      <td> 0.007426</td>\n",
       "    </tr>\n",
       "    <tr>\n",
       "      <th>1</th>\n",
       "      <td>        genre</td>\n",
       "      <td> 0.004572</td>\n",
       "    </tr>\n",
       "    <tr>\n",
       "      <th>2</th>\n",
       "      <td>   age_rating</td>\n",
       "      <td> 0.933641</td>\n",
       "    </tr>\n",
       "    <tr>\n",
       "      <th>3</th>\n",
       "      <td> budget_2013$</td>\n",
       "      <td> 0.026643</td>\n",
       "    </tr>\n",
       "    <tr>\n",
       "      <th>4</th>\n",
       "      <td>  star_rating</td>\n",
       "      <td> 0.011545</td>\n",
       "    </tr>\n",
       "    <tr>\n",
       "      <th>5</th>\n",
       "      <td>     director</td>\n",
       "      <td> 0.016174</td>\n",
       "    </tr>\n",
       "  </tbody>\n",
       "</table>\n",
       "</div>"
      ],
      "text/plain": [
       "        feature  importance\n",
       "0          year    0.007426\n",
       "1         genre    0.004572\n",
       "2    age_rating    0.933641\n",
       "3  budget_2013$    0.026643\n",
       "4   star_rating    0.011545\n",
       "5      director    0.016174"
      ]
     },
     "execution_count": 27,
     "metadata": {},
     "output_type": "execute_result"
    }
   ],
   "source": [
    "pd.DataFrame({'feature':feature_cols, 'importance':treereg.feature_importances_})"
   ]
  },
  {
   "cell_type": "markdown",
   "metadata": {},
   "source": [
    "Seems like age_rating, budget, director, and star_rating matter more. Now to make the decision tree!\n",
    "\n"
   ]
  },
  {
   "cell_type": "code",
   "execution_count": 28,
   "metadata": {
    "collapsed": false
   },
   "outputs": [
    {
     "name": "stdout",
     "output_type": "stream",
     "text": [
      "It appears Homebrew is already installed. If your intent is to reinstall you\n",
      "should do the following before running this installer again:\n",
      "    rm -rf /usr/local/Cellar /usr/local/.git && brew cleanup\n",
      "\u001b[4;31mWarning\u001b[0m: libtool-2.4.6 already installed\n",
      "\u001b[4;31mWarning\u001b[0m: graphviz-2.38.0 already installed\n"
     ]
    }
   ],
   "source": [
    "!ruby -e \"$(curl -fsSL https://raw.githubusercontent.com/Homebrew/install/master/install)\"\n",
    "!brew install libtool\n",
    "!brew install graphviz"
   ]
  },
  {
   "cell_type": "code",
   "execution_count": 29,
   "metadata": {
    "collapsed": true
   },
   "outputs": [],
   "source": [
    "from sklearn.tree import export_graphviz\n",
    "with open(\"bechdel.dot\", 'wb') as f:\n",
    "    f = export_graphviz(treereg, out_file=f, feature_names=feature_cols)\n"
   ]
  },
  {
   "cell_type": "markdown",
   "metadata": {},
   "source": [
    "And thus the decision tree! In the next phases of this project, I plan to actually test the decision tree with some new movies, and find a way to use the data gathered about the cast and writers effectively. The decision tree is just not a great way to utilize this information, but in the future I may analyze these separately with a different method, or simply represent the data I have from them (like actor with the highest passing percentage, etc.) in chart form. "
   ]
  },
  {
   "cell_type": "markdown",
   "metadata": {
    "collapsed": true
   },
   "source": [
    "# V: More Charts\n",
    "\n",
    "Now that I have more information, here are a few more charts that show some different and interesting things about the data. "
   ]
  },
  {
   "cell_type": "code",
   "execution_count": 32,
   "metadata": {
    "collapsed": false
   },
   "outputs": [
    {
     "data": {
      "text/plain": [
       "<matplotlib.text.Text at 0x10ccc06d0>"
      ]
     },
     "execution_count": 32,
     "metadata": {},
     "output_type": "execute_result"
    },
    {
     "data": {
      "image/png": "[encoded data removed]",
      "text/plain": [
       "<matplotlib.figure.Figure at 0x10c228f90>"
      ]
     },
     "metadata": {},
     "output_type": "display_data"
    }
   ],
   "source": [
    "df = pd.read_csv(\"complete_movies.csv\")\n",
    "\n",
    "# making a chart for imdb star percentages for passing movies\n",
    "\n",
    "for i in range (len(df)):\n",
    "    thing = df.ix[i,8]\n",
    "    if not math.isnan(thing):\n",
    "        id = int(thing)\n",
    "        df.ix[i, 8] = id\n",
    "\n",
    "passing = df[df.binary == \"PASS\"]\n",
    "categories = [0,1,2,3,4,5,6,7,8,9]\n",
    "criterion_ps = []\n",
    "for category in categories:\n",
    "    criterion_ps.append(len(passing[passing.star_rating == category])/float(len(passing)))\n",
    "\n",
    "cats = [\"0 stars\", \"1 star\", \"2 stars\", \"3 stars\", \"4 stars\", \"5 stars\", \"6 stars\", \"7 stars\", \"8 stars\", \"9 stars\"]\n",
    "plt.pie(criterion_ps, explode=None,\n",
    "    colors=('yellowgreen', 'gold', 'lightskyblue', 'lightcoral', 'plum','silver','lightgreen','wheat','cornflowerblue', 'salmon'),\n",
    "    autopct='%1.0f%%', pctdistance=0.7, shadow=True,\n",
    "    labeldistance=2.5, startangle=5, radius=None,\n",
    "    counterclock=True, wedgeprops=None, textprops=None)\n",
    "plt.legend(cats, loc=(-0.15,0.05))\n",
    "plt.axis('equal')\n",
    "plt.title('Star Percentages for Passing Movies')"
   ]
  },
  {
   "cell_type": "code",
   "execution_count": 33,
   "metadata": {
    "collapsed": false
   },
   "outputs": [
    {
     "data": {
      "text/plain": [
       "<matplotlib.text.Text at 0x10cdfba10>"
      ]
     },
     "execution_count": 33,
     "metadata": {},
     "output_type": "execute_result"
    },
    {
     "data": {
      "image/png": "[encoded data removed]",
      "text/plain": [
       "<matplotlib.figure.Figure at 0x10c395410>"
      ]
     },
     "metadata": {},
     "output_type": "display_data"
    }
   ],
   "source": [
    "# making a chart for imdb star_ratings for general movies surveyed\n",
    "\n",
    "categories = [0,1,2,3,4,5,6,7,8,9]\n",
    "criterion_ps = []\n",
    "for category in categories:\n",
    "    criterion_ps.append(len(df[df.star_rating == category])/float(len(df)))\n",
    "\n",
    "cats = [\"0 stars\", \"1 star\", \"2 stars\", \"3 stars\", \"4 stars\", \"5 stars\", \"6 stars\", \"7 stars\", \"8 stars\", \"9 stars\"]\n",
    "plt.pie(criterion_ps, explode=None,\n",
    "    colors=('yellowgreen', 'gold', 'lightskyblue', 'lightcoral', 'plum','silver','lightgreen','wheat','cornflowerblue', 'salmon'),\n",
    "    autopct='%1.0f%%', pctdistance=0.7, shadow=True,\n",
    "    labeldistance=2.5, startangle=5, radius=None,\n",
    "    counterclock=True, wedgeprops=None, textprops=None)\n",
    "plt.legend(cats, loc=(-0.15,0.05))\n",
    "plt.axis('equal')\n",
    "plt.title('Star Percentages for Movies Surveyed')"
   ]
  },
  {
   "cell_type": "code",
   "execution_count": null,
   "metadata": {
    "collapsed": true
   },
   "outputs": [],
   "source": []
  }
 ],
 "metadata": {
  "kernelspec": {
   "display_name": "Python 2",
   "language": "python",
   "name": "python2"
  },
  "language_info": {
   "codemirror_mode": {
    "name": "ipython",
    "version": 2
   },
   "file_extension": ".py",
   "mimetype": "text/x-python",
   "name": "python",
   "nbconvert_exporter": "python",
   "pygments_lexer": "ipython2",
   "version": "2.7.9"
  }
 },
 "nbformat": 4,
 "nbformat_minor": 0
}
